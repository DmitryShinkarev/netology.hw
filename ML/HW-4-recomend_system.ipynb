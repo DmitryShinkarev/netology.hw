{
 "cells": [
  {
   "cell_type": "code",
   "execution_count": 19,
   "metadata": {
    "ExecuteTime": {
     "end_time": "2020-02-10T17:41:24.172093Z",
     "start_time": "2020-02-10T17:41:22.442618Z"
    }
   },
   "outputs": [],
   "source": [
    "import pandas as pd\n",
    "import numpy as np\n",
    "from tqdm import tqdm_notebook\n",
    "from datetime import datetime\n",
    "\n",
    "import scipy.sparse as sparse\n",
    "\n",
    "%matplotlib inline\n",
    "\n",
    "from implicit.als import AlternatingLeastSquares\n",
    "\n",
    "import warnings; warnings.simplefilter('ignore')"
   ]
  },
  {
   "cell_type": "code",
   "execution_count": 20,
   "metadata": {},
   "outputs": [],
   "source": [
    "bookmarks_df = pd.read_csv('hetrec2011-delicious-2k/bookmarks.dat', sep='\\\\t')\n",
    "tags_df = pd.read_csv('hetrec2011-delicious-2k/tags.dat', sep='\\\\t')\n",
    "user_contacts_df = pd.read_csv('hetrec2011-delicious-2k/user_contacts.dat', sep='\\\\t')\n",
    "user_taggedbookmarks_df = pd.read_csv('hetrec2011-delicious-2k/user_taggedbookmarks.dat', sep='\\\\t')"
   ]
  },
  {
   "cell_type": "code",
   "execution_count": 21,
   "metadata": {},
   "outputs": [
    {
     "name": "stdout",
     "output_type": "stream",
     "text": [
      "\n"
     ]
    }
   ],
   "source": [
    "bookmarks_df.drop_duplicates()\n",
    "tags_df.drop_duplicates()\n",
    "user_contacts_df.drop_duplicates()\n",
    "user_taggedbookmarks_df.drop_duplicates()\n",
    "\n",
    "print()"
   ]
  },
  {
   "cell_type": "code",
   "execution_count": 22,
   "metadata": {},
   "outputs": [
    {
     "name": "stdout",
     "output_type": "stream",
     "text": [
      "<class 'pandas.core.frame.DataFrame'>\n",
      "RangeIndex: 437593 entries, 0 to 437592\n",
      "Data columns (total 9 columns):\n",
      "userID        437593 non-null int64\n",
      "bookmarkID    437593 non-null int64\n",
      "tagID         437593 non-null int64\n",
      "day           437593 non-null int64\n",
      "month         437593 non-null int64\n",
      "year          437593 non-null int64\n",
      "hour          437593 non-null int64\n",
      "minute        437593 non-null int64\n",
      "second        437593 non-null int64\n",
      "dtypes: int64(9)\n",
      "memory usage: 30.0 MB\n"
     ]
    }
   ],
   "source": [
    "user_taggedbookmarks_df.info()"
   ]
  },
  {
   "cell_type": "code",
   "execution_count": 23,
   "metadata": {},
   "outputs": [
    {
     "data": {
      "text/html": [
       "<div>\n",
       "<style scoped>\n",
       "    .dataframe tbody tr th:only-of-type {\n",
       "        vertical-align: middle;\n",
       "    }\n",
       "\n",
       "    .dataframe tbody tr th {\n",
       "        vertical-align: top;\n",
       "    }\n",
       "\n",
       "    .dataframe thead th {\n",
       "        text-align: right;\n",
       "    }\n",
       "</style>\n",
       "<table border=\"1\" class=\"dataframe\">\n",
       "  <thead>\n",
       "    <tr style=\"text-align: right;\">\n",
       "      <th></th>\n",
       "      <th>id</th>\n",
       "      <th>md5</th>\n",
       "      <th>title</th>\n",
       "      <th>url</th>\n",
       "      <th>md5Principal</th>\n",
       "      <th>urlPrincipal</th>\n",
       "    </tr>\n",
       "  </thead>\n",
       "  <tbody>\n",
       "    <tr>\n",
       "      <th>0</th>\n",
       "      <td>1</td>\n",
       "      <td>ab4954b633ddaf5b5bba6e9b71aa6b70</td>\n",
       "      <td>IFLA - The official website of the Internation...</td>\n",
       "      <td>http://www.ifla.org/</td>\n",
       "      <td>7f431306c428457bc4e12b15634484f</td>\n",
       "      <td>www.ifla.org</td>\n",
       "    </tr>\n",
       "    <tr>\n",
       "      <th>1</th>\n",
       "      <td>2</td>\n",
       "      <td>2221e9cd106d269dd34682666f576fa3</td>\n",
       "      <td>gcdp-e.pdf (application/pdf Object)</td>\n",
       "      <td>http://archive.ifla.org/VII/s14/nd1/gcdp-e.pdf</td>\n",
       "      <td>1ef8cfcfe968101fa9b4e301847503d4</td>\n",
       "      <td>archive.ifla.org</td>\n",
       "    </tr>\n",
       "    <tr>\n",
       "      <th>2</th>\n",
       "      <td>7</td>\n",
       "      <td>c97c571dadaddbbb493126a0d4d01ba3</td>\n",
       "      <td>EdSelect</td>\n",
       "      <td>http://www.edselect.com/</td>\n",
       "      <td>792fd7eb20143386d0c4eb193c6124d</td>\n",
       "      <td>www.edselect.com</td>\n",
       "    </tr>\n",
       "    <tr>\n",
       "      <th>3</th>\n",
       "      <td>8</td>\n",
       "      <td>25bfe8dca0ef263ec9c341b9f16c38b5</td>\n",
       "      <td>Cool Canada (Collections Canada)</td>\n",
       "      <td>http://www.collectionscanada.gc.ca/cool/index-...</td>\n",
       "      <td>6fce4f6391516f0732531d9cfacda5b7</td>\n",
       "      <td>www.collectionscanada.gc.ca</td>\n",
       "    </tr>\n",
       "    <tr>\n",
       "      <th>4</th>\n",
       "      <td>9</td>\n",
       "      <td>c97284629e17b8e2861afaacd59918bc</td>\n",
       "      <td>Kidsreads.com</td>\n",
       "      <td>http://www.kidsreads.com/</td>\n",
       "      <td>5854ce8404857a45373eea01a3d98000</td>\n",
       "      <td>www.kidsreads.com</td>\n",
       "    </tr>\n",
       "  </tbody>\n",
       "</table>\n",
       "</div>"
      ],
      "text/plain": [
       "   id                               md5  \\\n",
       "0   1  ab4954b633ddaf5b5bba6e9b71aa6b70   \n",
       "1   2  2221e9cd106d269dd34682666f576fa3   \n",
       "2   7  c97c571dadaddbbb493126a0d4d01ba3   \n",
       "3   8  25bfe8dca0ef263ec9c341b9f16c38b5   \n",
       "4   9  c97284629e17b8e2861afaacd59918bc   \n",
       "\n",
       "                                               title  \\\n",
       "0  IFLA - The official website of the Internation...   \n",
       "1                gcdp-e.pdf (application/pdf Object)   \n",
       "2                                           EdSelect   \n",
       "3                   Cool Canada (Collections Canada)   \n",
       "4                                      Kidsreads.com   \n",
       "\n",
       "                                                 url  \\\n",
       "0                               http://www.ifla.org/   \n",
       "1     http://archive.ifla.org/VII/s14/nd1/gcdp-e.pdf   \n",
       "2                           http://www.edselect.com/   \n",
       "3  http://www.collectionscanada.gc.ca/cool/index-...   \n",
       "4                          http://www.kidsreads.com/   \n",
       "\n",
       "                       md5Principal                 urlPrincipal  \n",
       "0   7f431306c428457bc4e12b15634484f                 www.ifla.org  \n",
       "1  1ef8cfcfe968101fa9b4e301847503d4             archive.ifla.org  \n",
       "2   792fd7eb20143386d0c4eb193c6124d             www.edselect.com  \n",
       "3  6fce4f6391516f0732531d9cfacda5b7  www.collectionscanada.gc.ca  \n",
       "4  5854ce8404857a45373eea01a3d98000            www.kidsreads.com  "
      ]
     },
     "execution_count": 23,
     "metadata": {},
     "output_type": "execute_result"
    }
   ],
   "source": [
    "bookmarks_df.head()"
   ]
  },
  {
   "cell_type": "code",
   "execution_count": 24,
   "metadata": {},
   "outputs": [
    {
     "data": {
      "text/plain": [
       "www.youtube.com               1048\n",
       "www.nytimes.com                639\n",
       "en.wikipedia.org               585\n",
       "www.guardian.co.uk             484\n",
       "mashable.com                   449\n",
       "code.google.com                417\n",
       "www.slideshare.net             337\n",
       "github.com                     325\n",
       "d.hatena.ne.jp                 293\n",
       "www.bbc.co.uk                  271\n",
       "vimeo.com                      262\n",
       "lifehacker.com                 261\n",
       "www.readwriteweb.com           241\n",
       "www.wired.com                  237\n",
       "www.smashingmagazine.com       228\n",
       "www.flickr.com                 224\n",
       "www.google.com                 209\n",
       "techcrunch.com                 155\n",
       "news.bbc.co.uk                 129\n",
       "sites.google.com               123\n",
       "wordpress.org                  112\n",
       "www.pbs.org                    111\n",
       "online.wsj.com                 110\n",
       "www.ted.com                    110\n",
       "sixrevisions.com               102\n",
       "www.makeuseof.com              100\n",
       "www.telegraph.co.uk             99\n",
       "chronicle.com                   97\n",
       "www.huffingtonpost.com          96\n",
       "gizmodo.com                     94\n",
       "                              ... \n",
       "tesis-e.appspot.com              1\n",
       "uk.intruders.tv                  1\n",
       "www.1011ltd.com                  1\n",
       "www.wowzamedia.com               1\n",
       "www.olejarz.com                  1\n",
       "www.openhazards.com              1\n",
       "www.newint.org                   1\n",
       "www.toves.org                    1\n",
       "www.calumetphoto.com             1\n",
       "www.thecigaretteisdead.com       1\n",
       "www.uplandsoapfactory.com        1\n",
       "www.polymaps.org                 1\n",
       "www.openrarfile.com              1\n",
       "bearnini.com                     1\n",
       "www.fuckthesouth.com             1\n",
       "www.ip-watch.org                 1\n",
       "www.unltd.org.uk                 1\n",
       "www.commonjs.org                 1\n",
       "www.stayfreemagazine.org         1\n",
       "frumph.net                       1\n",
       "wearehugh.com                    1\n",
       "edweb.tusd.k12.az.us             1\n",
       "www.mouse.cl                     1\n",
       "mixels.com                       1\n",
       "borderhouseblog.com              1\n",
       "posterazor.sourceforge.net       1\n",
       "marckremers.com                  1\n",
       "www.fjordnet.com                 1\n",
       "citysounds.fm                    1\n",
       "blinkbid.com                     1\n",
       "Name: urlPrincipal, Length: 38581, dtype: int64"
      ]
     },
     "execution_count": 24,
     "metadata": {},
     "output_type": "execute_result"
    }
   ],
   "source": [
    "bookmarks_df['urlPrincipal'].value_counts()"
   ]
  },
  {
   "cell_type": "code",
   "execution_count": 25,
   "metadata": {},
   "outputs": [],
   "source": [
    "bookmarks_df = bookmarks_df.drop(columns = ['md5','title','url','md5Principal'])"
   ]
  },
  {
   "cell_type": "code",
   "execution_count": 26,
   "metadata": {},
   "outputs": [],
   "source": [
    "bookmarks_df.columns = ['bookmarkID','url']"
   ]
  },
  {
   "cell_type": "code",
   "execution_count": 27,
   "metadata": {},
   "outputs": [
    {
     "data": {
      "text/html": [
       "<div>\n",
       "<style scoped>\n",
       "    .dataframe tbody tr th:only-of-type {\n",
       "        vertical-align: middle;\n",
       "    }\n",
       "\n",
       "    .dataframe tbody tr th {\n",
       "        vertical-align: top;\n",
       "    }\n",
       "\n",
       "    .dataframe thead th {\n",
       "        text-align: right;\n",
       "    }\n",
       "</style>\n",
       "<table border=\"1\" class=\"dataframe\">\n",
       "  <thead>\n",
       "    <tr style=\"text-align: right;\">\n",
       "      <th></th>\n",
       "      <th>tagID</th>\n",
       "      <th>title_tags</th>\n",
       "    </tr>\n",
       "  </thead>\n",
       "  <tbody>\n",
       "    <tr>\n",
       "      <th>0</th>\n",
       "      <td>1</td>\n",
       "      <td>collection_development</td>\n",
       "    </tr>\n",
       "    <tr>\n",
       "      <th>1</th>\n",
       "      <td>2</td>\n",
       "      <td>library</td>\n",
       "    </tr>\n",
       "    <tr>\n",
       "      <th>2</th>\n",
       "      <td>3</td>\n",
       "      <td>collection</td>\n",
       "    </tr>\n",
       "    <tr>\n",
       "      <th>3</th>\n",
       "      <td>4</td>\n",
       "      <td>development</td>\n",
       "    </tr>\n",
       "    <tr>\n",
       "      <th>4</th>\n",
       "      <td>5</td>\n",
       "      <td>lesson_plan</td>\n",
       "    </tr>\n",
       "  </tbody>\n",
       "</table>\n",
       "</div>"
      ],
      "text/plain": [
       "   tagID              title_tags\n",
       "0      1  collection_development\n",
       "1      2                 library\n",
       "2      3              collection\n",
       "3      4             development\n",
       "4      5             lesson_plan"
      ]
     },
     "execution_count": 27,
     "metadata": {},
     "output_type": "execute_result"
    }
   ],
   "source": [
    "tags_df.columns = ['tagID','title_tags']\n",
    "tags_df.head()"
   ]
  },
  {
   "cell_type": "code",
   "execution_count": 28,
   "metadata": {},
   "outputs": [
    {
     "data": {
      "text/html": [
       "<div>\n",
       "<style scoped>\n",
       "    .dataframe tbody tr th:only-of-type {\n",
       "        vertical-align: middle;\n",
       "    }\n",
       "\n",
       "    .dataframe tbody tr th {\n",
       "        vertical-align: top;\n",
       "    }\n",
       "\n",
       "    .dataframe thead th {\n",
       "        text-align: right;\n",
       "    }\n",
       "</style>\n",
       "<table border=\"1\" class=\"dataframe\">\n",
       "  <thead>\n",
       "    <tr style=\"text-align: right;\">\n",
       "      <th></th>\n",
       "      <th>userID</th>\n",
       "      <th>contactID</th>\n",
       "      <th>date_day</th>\n",
       "      <th>date_month</th>\n",
       "      <th>date_year</th>\n",
       "      <th>date_hour</th>\n",
       "      <th>date_minute</th>\n",
       "      <th>date_second</th>\n",
       "    </tr>\n",
       "  </thead>\n",
       "  <tbody>\n",
       "    <tr>\n",
       "      <th>0</th>\n",
       "      <td>8</td>\n",
       "      <td>28371</td>\n",
       "      <td>4</td>\n",
       "      <td>10</td>\n",
       "      <td>2010</td>\n",
       "      <td>2</td>\n",
       "      <td>14</td>\n",
       "      <td>19</td>\n",
       "    </tr>\n",
       "    <tr>\n",
       "      <th>1</th>\n",
       "      <td>8</td>\n",
       "      <td>40306</td>\n",
       "      <td>3</td>\n",
       "      <td>10</td>\n",
       "      <td>2010</td>\n",
       "      <td>12</td>\n",
       "      <td>33</td>\n",
       "      <td>9</td>\n",
       "    </tr>\n",
       "    <tr>\n",
       "      <th>2</th>\n",
       "      <td>8</td>\n",
       "      <td>85279</td>\n",
       "      <td>2</td>\n",
       "      <td>10</td>\n",
       "      <td>2010</td>\n",
       "      <td>3</td>\n",
       "      <td>10</td>\n",
       "      <td>48</td>\n",
       "    </tr>\n",
       "    <tr>\n",
       "      <th>3</th>\n",
       "      <td>8</td>\n",
       "      <td>91764</td>\n",
       "      <td>4</td>\n",
       "      <td>10</td>\n",
       "      <td>2010</td>\n",
       "      <td>22</td>\n",
       "      <td>43</td>\n",
       "      <td>47</td>\n",
       "    </tr>\n",
       "    <tr>\n",
       "      <th>4</th>\n",
       "      <td>8</td>\n",
       "      <td>97723</td>\n",
       "      <td>12</td>\n",
       "      <td>10</td>\n",
       "      <td>2010</td>\n",
       "      <td>3</td>\n",
       "      <td>28</td>\n",
       "      <td>33</td>\n",
       "    </tr>\n",
       "  </tbody>\n",
       "</table>\n",
       "</div>"
      ],
      "text/plain": [
       "   userID  contactID  date_day  date_month  date_year  date_hour  date_minute  \\\n",
       "0       8      28371         4          10       2010          2           14   \n",
       "1       8      40306         3          10       2010         12           33   \n",
       "2       8      85279         2          10       2010          3           10   \n",
       "3       8      91764         4          10       2010         22           43   \n",
       "4       8      97723        12          10       2010          3           28   \n",
       "\n",
       "   date_second  \n",
       "0           19  \n",
       "1            9  \n",
       "2           48  \n",
       "3           47  \n",
       "4           33  "
      ]
     },
     "execution_count": 28,
     "metadata": {},
     "output_type": "execute_result"
    }
   ],
   "source": [
    "user_contacts_df.head()"
   ]
  },
  {
   "cell_type": "code",
   "execution_count": 29,
   "metadata": {},
   "outputs": [],
   "source": [
    "user_contacts_df.columns = ['userID','contactID','day','month','year','hour','minute','second']"
   ]
  },
  {
   "cell_type": "code",
   "execution_count": 30,
   "metadata": {},
   "outputs": [
    {
     "data": {
      "text/html": [
       "<div>\n",
       "<style scoped>\n",
       "    .dataframe tbody tr th:only-of-type {\n",
       "        vertical-align: middle;\n",
       "    }\n",
       "\n",
       "    .dataframe tbody tr th {\n",
       "        vertical-align: top;\n",
       "    }\n",
       "\n",
       "    .dataframe thead th {\n",
       "        text-align: right;\n",
       "    }\n",
       "</style>\n",
       "<table border=\"1\" class=\"dataframe\">\n",
       "  <thead>\n",
       "    <tr style=\"text-align: right;\">\n",
       "      <th></th>\n",
       "      <th>userID</th>\n",
       "      <th>contactID</th>\n",
       "      <th>day</th>\n",
       "      <th>month</th>\n",
       "      <th>year</th>\n",
       "      <th>hour</th>\n",
       "      <th>minute</th>\n",
       "      <th>second</th>\n",
       "    </tr>\n",
       "  </thead>\n",
       "  <tbody>\n",
       "    <tr>\n",
       "      <th>0</th>\n",
       "      <td>8</td>\n",
       "      <td>28371</td>\n",
       "      <td>4</td>\n",
       "      <td>10</td>\n",
       "      <td>2010</td>\n",
       "      <td>2</td>\n",
       "      <td>14</td>\n",
       "      <td>19</td>\n",
       "    </tr>\n",
       "    <tr>\n",
       "      <th>1</th>\n",
       "      <td>8</td>\n",
       "      <td>40306</td>\n",
       "      <td>3</td>\n",
       "      <td>10</td>\n",
       "      <td>2010</td>\n",
       "      <td>12</td>\n",
       "      <td>33</td>\n",
       "      <td>9</td>\n",
       "    </tr>\n",
       "    <tr>\n",
       "      <th>2</th>\n",
       "      <td>8</td>\n",
       "      <td>85279</td>\n",
       "      <td>2</td>\n",
       "      <td>10</td>\n",
       "      <td>2010</td>\n",
       "      <td>3</td>\n",
       "      <td>10</td>\n",
       "      <td>48</td>\n",
       "    </tr>\n",
       "    <tr>\n",
       "      <th>3</th>\n",
       "      <td>8</td>\n",
       "      <td>91764</td>\n",
       "      <td>4</td>\n",
       "      <td>10</td>\n",
       "      <td>2010</td>\n",
       "      <td>22</td>\n",
       "      <td>43</td>\n",
       "      <td>47</td>\n",
       "    </tr>\n",
       "    <tr>\n",
       "      <th>4</th>\n",
       "      <td>8</td>\n",
       "      <td>97723</td>\n",
       "      <td>12</td>\n",
       "      <td>10</td>\n",
       "      <td>2010</td>\n",
       "      <td>3</td>\n",
       "      <td>28</td>\n",
       "      <td>33</td>\n",
       "    </tr>\n",
       "  </tbody>\n",
       "</table>\n",
       "</div>"
      ],
      "text/plain": [
       "   userID  contactID  day  month  year  hour  minute  second\n",
       "0       8      28371    4     10  2010     2      14      19\n",
       "1       8      40306    3     10  2010    12      33       9\n",
       "2       8      85279    2     10  2010     3      10      48\n",
       "3       8      91764    4     10  2010    22      43      47\n",
       "4       8      97723   12     10  2010     3      28      33"
      ]
     },
     "execution_count": 30,
     "metadata": {},
     "output_type": "execute_result"
    }
   ],
   "source": [
    "user_contacts_df.head()"
   ]
  },
  {
   "cell_type": "code",
   "execution_count": 215,
   "metadata": {},
   "outputs": [],
   "source": [
    "user_taggedbookmarks_df['views'] = 1"
   ]
  },
  {
   "cell_type": "code",
   "execution_count": 216,
   "metadata": {},
   "outputs": [
    {
     "data": {
      "text/html": [
       "<div>\n",
       "<style scoped>\n",
       "    .dataframe tbody tr th:only-of-type {\n",
       "        vertical-align: middle;\n",
       "    }\n",
       "\n",
       "    .dataframe tbody tr th {\n",
       "        vertical-align: top;\n",
       "    }\n",
       "\n",
       "    .dataframe thead th {\n",
       "        text-align: right;\n",
       "    }\n",
       "</style>\n",
       "<table border=\"1\" class=\"dataframe\">\n",
       "  <thead>\n",
       "    <tr style=\"text-align: right;\">\n",
       "      <th></th>\n",
       "      <th>userID</th>\n",
       "      <th>bookmarkID</th>\n",
       "      <th>views</th>\n",
       "      <th>url</th>\n",
       "    </tr>\n",
       "  </thead>\n",
       "  <tbody>\n",
       "    <tr>\n",
       "      <th>0</th>\n",
       "      <td>8</td>\n",
       "      <td>1</td>\n",
       "      <td>1</td>\n",
       "      <td>www.ifla.org</td>\n",
       "    </tr>\n",
       "    <tr>\n",
       "      <th>1</th>\n",
       "      <td>8</td>\n",
       "      <td>2</td>\n",
       "      <td>1</td>\n",
       "      <td>archive.ifla.org</td>\n",
       "    </tr>\n",
       "    <tr>\n",
       "      <th>2</th>\n",
       "      <td>8</td>\n",
       "      <td>7</td>\n",
       "      <td>3</td>\n",
       "      <td>www.edselect.com</td>\n",
       "    </tr>\n",
       "    <tr>\n",
       "      <th>3</th>\n",
       "      <td>8</td>\n",
       "      <td>8</td>\n",
       "      <td>3</td>\n",
       "      <td>www.collectionscanada.gc.ca</td>\n",
       "    </tr>\n",
       "    <tr>\n",
       "      <th>4</th>\n",
       "      <td>8</td>\n",
       "      <td>9</td>\n",
       "      <td>2</td>\n",
       "      <td>www.kidsreads.com</td>\n",
       "    </tr>\n",
       "  </tbody>\n",
       "</table>\n",
       "</div>"
      ],
      "text/plain": [
       "   userID  bookmarkID  views                          url\n",
       "0       8           1      1                 www.ifla.org\n",
       "1       8           2      1             archive.ifla.org\n",
       "2       8           7      3             www.edselect.com\n",
       "3       8           8      3  www.collectionscanada.gc.ca\n",
       "4       8           9      2            www.kidsreads.com"
      ]
     },
     "execution_count": 216,
     "metadata": {},
     "output_type": "execute_result"
    }
   ],
   "source": [
    "group_table = user_taggedbookmarks_df.groupby(['userID','bookmarkID'])[['views']].sum().reset_index()\n",
    "group_table = group_table.merge(bookmarks_df, how = 'left', on = 'bookmarkID')\n",
    "group_table.head()"
   ]
  },
  {
   "cell_type": "code",
   "execution_count": 217,
   "metadata": {},
   "outputs": [],
   "source": [
    "group_table = group_table.dropna()\n",
    "group_table['users_m'] = group_table['userID'].astype(\"category\").cat.codes\n",
    "group_table['bookmarks_m'] = group_table['bookmarkID'].astype(\"category\").cat.codes"
   ]
  },
  {
   "cell_type": "code",
   "execution_count": 218,
   "metadata": {},
   "outputs": [
    {
     "data": {
      "text/html": [
       "<div>\n",
       "<style scoped>\n",
       "    .dataframe tbody tr th:only-of-type {\n",
       "        vertical-align: middle;\n",
       "    }\n",
       "\n",
       "    .dataframe tbody tr th {\n",
       "        vertical-align: top;\n",
       "    }\n",
       "\n",
       "    .dataframe thead th {\n",
       "        text-align: right;\n",
       "    }\n",
       "</style>\n",
       "<table border=\"1\" class=\"dataframe\">\n",
       "  <thead>\n",
       "    <tr style=\"text-align: right;\">\n",
       "      <th></th>\n",
       "      <th>userID</th>\n",
       "      <th>bookmarkID</th>\n",
       "      <th>views</th>\n",
       "      <th>url</th>\n",
       "      <th>users_m</th>\n",
       "      <th>bookmarks_m</th>\n",
       "    </tr>\n",
       "  </thead>\n",
       "  <tbody>\n",
       "    <tr>\n",
       "      <th>0</th>\n",
       "      <td>8</td>\n",
       "      <td>1</td>\n",
       "      <td>1</td>\n",
       "      <td>www.ifla.org</td>\n",
       "      <td>0</td>\n",
       "      <td>0</td>\n",
       "    </tr>\n",
       "    <tr>\n",
       "      <th>1</th>\n",
       "      <td>8</td>\n",
       "      <td>2</td>\n",
       "      <td>1</td>\n",
       "      <td>archive.ifla.org</td>\n",
       "      <td>0</td>\n",
       "      <td>1</td>\n",
       "    </tr>\n",
       "    <tr>\n",
       "      <th>2</th>\n",
       "      <td>8</td>\n",
       "      <td>7</td>\n",
       "      <td>3</td>\n",
       "      <td>www.edselect.com</td>\n",
       "      <td>0</td>\n",
       "      <td>2</td>\n",
       "    </tr>\n",
       "    <tr>\n",
       "      <th>3</th>\n",
       "      <td>8</td>\n",
       "      <td>8</td>\n",
       "      <td>3</td>\n",
       "      <td>www.collectionscanada.gc.ca</td>\n",
       "      <td>0</td>\n",
       "      <td>3</td>\n",
       "    </tr>\n",
       "    <tr>\n",
       "      <th>4</th>\n",
       "      <td>8</td>\n",
       "      <td>9</td>\n",
       "      <td>2</td>\n",
       "      <td>www.kidsreads.com</td>\n",
       "      <td>0</td>\n",
       "      <td>4</td>\n",
       "    </tr>\n",
       "  </tbody>\n",
       "</table>\n",
       "</div>"
      ],
      "text/plain": [
       "   userID  bookmarkID  views                          url  users_m  \\\n",
       "0       8           1      1                 www.ifla.org        0   \n",
       "1       8           2      1             archive.ifla.org        0   \n",
       "2       8           7      3             www.edselect.com        0   \n",
       "3       8           8      3  www.collectionscanada.gc.ca        0   \n",
       "4       8           9      2            www.kidsreads.com        0   \n",
       "\n",
       "   bookmarks_m  \n",
       "0            0  \n",
       "1            1  \n",
       "2            2  \n",
       "3            3  \n",
       "4            4  "
      ]
     },
     "execution_count": 218,
     "metadata": {},
     "output_type": "execute_result"
    }
   ],
   "source": [
    "group_table.head()"
   ]
  },
  {
   "cell_type": "code",
   "execution_count": 219,
   "metadata": {},
   "outputs": [],
   "source": [
    "group_table = group_table.loc[group_table.views != 0]"
   ]
  },
  {
   "cell_type": "code",
   "execution_count": 220,
   "metadata": {},
   "outputs": [],
   "source": [
    "item_lookup = group_table[['bookmarkID', 'bookmarks_m', 'url']].drop_duplicates()\n",
    "item_lookup['bookmarks_m'] = item_lookup.bookmarks_m.astype(str)"
   ]
  },
  {
   "cell_type": "code",
   "execution_count": 222,
   "metadata": {},
   "outputs": [
    {
     "data": {
      "application/vnd.jupyter.widget-view+json": {
       "model_id": "bf1557df79b34baeaeb0dad5b984afaa",
       "version_major": 2,
       "version_minor": 0
      },
      "text/plain": [
       "HBox(children=(IntProgress(value=1, bar_style='info', max=1), HTML(value='')))"
      ]
     },
     "metadata": {},
     "output_type": "display_data"
    },
    {
     "name": "stdout",
     "output_type": "stream",
     "text": [
      "\n"
     ]
    }
   ],
   "source": [
    "url_id_name = {}\n",
    "\n",
    "for index, row in tqdm_notebook(item_lookup.iterrows()):\n",
    "    url_id_name[row.bookmarks_m] = row.url"
   ]
  },
  {
   "cell_type": "code",
   "execution_count": 224,
   "metadata": {},
   "outputs": [],
   "source": [
    "group_table = group_table.drop(['userID', 'bookmarkID', 'url'], axis=1)"
   ]
  },
  {
   "cell_type": "code",
   "execution_count": 225,
   "metadata": {},
   "outputs": [
    {
     "name": "stdout",
     "output_type": "stream",
     "text": [
      "<class 'pandas.core.frame.DataFrame'>\n",
      "Int64Index: 104799 entries, 0 to 104798\n",
      "Data columns (total 3 columns):\n",
      "views          104799 non-null int64\n",
      "users_m        104799 non-null int16\n",
      "bookmarks_m    104799 non-null int32\n",
      "dtypes: int16(1), int32(1), int64(1)\n",
      "memory usage: 2.2 MB\n"
     ]
    }
   ],
   "source": [
    "group_table.info()"
   ]
  },
  {
   "cell_type": "code",
   "execution_count": 226,
   "metadata": {},
   "outputs": [
    {
     "data": {
      "text/html": [
       "<div>\n",
       "<style scoped>\n",
       "    .dataframe tbody tr th:only-of-type {\n",
       "        vertical-align: middle;\n",
       "    }\n",
       "\n",
       "    .dataframe tbody tr th {\n",
       "        vertical-align: top;\n",
       "    }\n",
       "\n",
       "    .dataframe thead th {\n",
       "        text-align: right;\n",
       "    }\n",
       "</style>\n",
       "<table border=\"1\" class=\"dataframe\">\n",
       "  <thead>\n",
       "    <tr style=\"text-align: right;\">\n",
       "      <th></th>\n",
       "      <th>views</th>\n",
       "      <th>users_m</th>\n",
       "      <th>bookmarks_m</th>\n",
       "    </tr>\n",
       "  </thead>\n",
       "  <tbody>\n",
       "    <tr>\n",
       "      <th>count</th>\n",
       "      <td>104799.000000</td>\n",
       "      <td>104799.000000</td>\n",
       "      <td>104799.000000</td>\n",
       "    </tr>\n",
       "    <tr>\n",
       "      <th>mean</th>\n",
       "      <td>4.175546</td>\n",
       "      <td>895.579939</td>\n",
       "      <td>27118.282102</td>\n",
       "    </tr>\n",
       "    <tr>\n",
       "      <th>std</th>\n",
       "      <td>3.200233</td>\n",
       "      <td>548.079983</td>\n",
       "      <td>20260.652700</td>\n",
       "    </tr>\n",
       "    <tr>\n",
       "      <th>min</th>\n",
       "      <td>1.000000</td>\n",
       "      <td>0.000000</td>\n",
       "      <td>0.000000</td>\n",
       "    </tr>\n",
       "    <tr>\n",
       "      <th>25%</th>\n",
       "      <td>2.000000</td>\n",
       "      <td>397.000000</td>\n",
       "      <td>9689.500000</td>\n",
       "    </tr>\n",
       "    <tr>\n",
       "      <th>50%</th>\n",
       "      <td>3.000000</td>\n",
       "      <td>893.000000</td>\n",
       "      <td>20944.000000</td>\n",
       "    </tr>\n",
       "    <tr>\n",
       "      <th>75%</th>\n",
       "      <td>5.000000</td>\n",
       "      <td>1375.000000</td>\n",
       "      <td>43906.500000</td>\n",
       "    </tr>\n",
       "    <tr>\n",
       "      <th>max</th>\n",
       "      <td>70.000000</td>\n",
       "      <td>1866.000000</td>\n",
       "      <td>69222.000000</td>\n",
       "    </tr>\n",
       "  </tbody>\n",
       "</table>\n",
       "</div>"
      ],
      "text/plain": [
       "               views        users_m    bookmarks_m\n",
       "count  104799.000000  104799.000000  104799.000000\n",
       "mean        4.175546     895.579939   27118.282102\n",
       "std         3.200233     548.079983   20260.652700\n",
       "min         1.000000       0.000000       0.000000\n",
       "25%         2.000000     397.000000    9689.500000\n",
       "50%         3.000000     893.000000   20944.000000\n",
       "75%         5.000000    1375.000000   43906.500000\n",
       "max        70.000000    1866.000000   69222.000000"
      ]
     },
     "execution_count": 226,
     "metadata": {},
     "output_type": "execute_result"
    }
   ],
   "source": [
    "group_table.describe()"
   ]
  },
  {
   "cell_type": "code",
   "execution_count": 227,
   "metadata": {},
   "outputs": [
    {
     "data": {
      "text/plain": [
       "<matplotlib.axes._subplots.AxesSubplot at 0x23165f2e898>"
      ]
     },
     "execution_count": 227,
     "metadata": {},
     "output_type": "execute_result"
    },
    {
     "data": {
      "image/png": "[encoded data removed]",
      "text/plain": [
       "<Figure size 432x288 with 1 Axes>"
      ]
     },
     "metadata": {
      "needs_background": "light"
     },
     "output_type": "display_data"
    }
   ],
   "source": [
    "group_table.views.hist()"
   ]
  },
  {
   "cell_type": "code",
   "execution_count": 228,
   "metadata": {},
   "outputs": [
    {
     "data": {
      "text/html": [
       "<div>\n",
       "<style scoped>\n",
       "    .dataframe tbody tr th:only-of-type {\n",
       "        vertical-align: middle;\n",
       "    }\n",
       "\n",
       "    .dataframe tbody tr th {\n",
       "        vertical-align: top;\n",
       "    }\n",
       "\n",
       "    .dataframe thead th {\n",
       "        text-align: right;\n",
       "    }\n",
       "</style>\n",
       "<table border=\"1\" class=\"dataframe\">\n",
       "  <thead>\n",
       "    <tr style=\"text-align: right;\">\n",
       "      <th></th>\n",
       "      <th>views</th>\n",
       "      <th>users_m</th>\n",
       "      <th>bookmarks_m</th>\n",
       "    </tr>\n",
       "  </thead>\n",
       "  <tbody>\n",
       "    <tr>\n",
       "      <th>0</th>\n",
       "      <td>1</td>\n",
       "      <td>0</td>\n",
       "      <td>0</td>\n",
       "    </tr>\n",
       "    <tr>\n",
       "      <th>1</th>\n",
       "      <td>1</td>\n",
       "      <td>0</td>\n",
       "      <td>1</td>\n",
       "    </tr>\n",
       "    <tr>\n",
       "      <th>2</th>\n",
       "      <td>3</td>\n",
       "      <td>0</td>\n",
       "      <td>2</td>\n",
       "    </tr>\n",
       "    <tr>\n",
       "      <th>3</th>\n",
       "      <td>3</td>\n",
       "      <td>0</td>\n",
       "      <td>3</td>\n",
       "    </tr>\n",
       "    <tr>\n",
       "      <th>4</th>\n",
       "      <td>2</td>\n",
       "      <td>0</td>\n",
       "      <td>4</td>\n",
       "    </tr>\n",
       "  </tbody>\n",
       "</table>\n",
       "</div>"
      ],
      "text/plain": [
       "   views  users_m  bookmarks_m\n",
       "0      1        0            0\n",
       "1      1        0            1\n",
       "2      3        0            2\n",
       "3      3        0            3\n",
       "4      2        0            4"
      ]
     },
     "execution_count": 228,
     "metadata": {},
     "output_type": "execute_result"
    }
   ],
   "source": [
    "df = group_table\n",
    "df.head()"
   ]
  },
  {
   "cell_type": "code",
   "execution_count": 231,
   "metadata": {},
   "outputs": [],
   "source": [
    "users = list(np.sort(df.users_m.unique()))\n",
    "bookmark = list(np.sort(df.bookmarks_m.unique()))\n",
    "views = list(df.views)"
   ]
  },
  {
   "cell_type": "code",
   "execution_count": 232,
   "metadata": {},
   "outputs": [
    {
     "data": {
      "text/plain": [
       "[0, 1, 2, 3, 4]"
      ]
     },
     "execution_count": 232,
     "metadata": {},
     "output_type": "execute_result"
    }
   ],
   "source": [
    "users[:5]"
   ]
  },
  {
   "cell_type": "code",
   "execution_count": 233,
   "metadata": {},
   "outputs": [
    {
     "data": {
      "text/plain": [
       "[0, 1, 2, 3, 4]"
      ]
     },
     "execution_count": 233,
     "metadata": {},
     "output_type": "execute_result"
    }
   ],
   "source": [
    "bookmark[:5]"
   ]
  },
  {
   "cell_type": "code",
   "execution_count": 234,
   "metadata": {},
   "outputs": [
    {
     "data": {
      "text/plain": [
       "[1, 1, 3, 3, 2]"
      ]
     },
     "execution_count": 234,
     "metadata": {},
     "output_type": "execute_result"
    }
   ],
   "source": [
    "views[:5]"
   ]
  },
  {
   "cell_type": "code",
   "execution_count": 235,
   "metadata": {},
   "outputs": [
    {
     "data": {
      "text/plain": [
       "1867"
      ]
     },
     "execution_count": 235,
     "metadata": {},
     "output_type": "execute_result"
    }
   ],
   "source": [
    "len(users)"
   ]
  },
  {
   "cell_type": "code",
   "execution_count": 236,
   "metadata": {},
   "outputs": [
    {
     "data": {
      "text/plain": [
       "69223"
      ]
     },
     "execution_count": 236,
     "metadata": {},
     "output_type": "execute_result"
    }
   ],
   "source": [
    "len(bookmark)"
   ]
  },
  {
   "cell_type": "code",
   "execution_count": 249,
   "metadata": {},
   "outputs": [],
   "source": [
    "rows = df.users_m.astype(int)\n",
    "cols = df.bookmarks_m.astype(int)"
   ]
  },
  {
   "cell_type": "code",
   "execution_count": 250,
   "metadata": {},
   "outputs": [
    {
     "data": {
      "text/plain": [
       "0"
      ]
     },
     "execution_count": 250,
     "metadata": {},
     "output_type": "execute_result"
    }
   ],
   "source": [
    "rows[1]"
   ]
  },
  {
   "cell_type": "code",
   "execution_count": 251,
   "metadata": {},
   "outputs": [
    {
     "data": {
      "text/plain": [
       "1"
      ]
     },
     "execution_count": 251,
     "metadata": {},
     "output_type": "execute_result"
    }
   ],
   "source": [
    "cols[1]"
   ]
  },
  {
   "cell_type": "code",
   "execution_count": 253,
   "metadata": {
    "ExecuteTime": {
     "end_time": "2020-02-10T17:51:32.562927Z",
     "start_time": "2020-02-10T17:51:28.739707Z"
    }
   },
   "outputs": [],
   "source": [
    "data_sparse = sparse.csr_matrix((views, (cols, rows)), shape=(len(bookmark), len(users)))"
   ]
  },
  {
   "cell_type": "code",
   "execution_count": 254,
   "metadata": {
    "ExecuteTime": {
     "end_time": "2020-02-10T17:52:32.189311Z",
     "start_time": "2020-02-10T17:51:47.700111Z"
    }
   },
   "outputs": [
    {
     "name": "stderr",
     "output_type": "stream",
     "text": [
      "WARNING:root:Intel MKL BLAS detected. Its highly recommend to set the environment variable 'export MKL_NUM_THREADS=1' to disable its internal multithreading\n",
      "100%|██████████| 15.0/15 [00:00<00:00, 17.78it/s]\n"
     ]
    }
   ],
   "source": [
    "model = AlternatingLeastSquares(factors=50)\n",
    "model.fit(data_sparse)"
   ]
  },
  {
   "cell_type": "code",
   "execution_count": 255,
   "metadata": {
    "ExecuteTime": {
     "end_time": "2020-02-10T17:53:09.424462Z",
     "start_time": "2020-02-10T17:53:08.635066Z"
    }
   },
   "outputs": [],
   "source": [
    "userid = 0\n",
    "\n",
    "user_items = data_sparse.T.tocsr()\n",
    "recommendations = model.recommend(userid, user_items)"
   ]
  },
  {
   "cell_type": "code",
   "execution_count": 256,
   "metadata": {
    "ExecuteTime": {
     "end_time": "2020-02-10T17:53:15.896934Z",
     "start_time": "2020-02-10T17:53:15.891923Z"
    }
   },
   "outputs": [
    {
     "data": {
      "text/plain": [
       "[(3270, 0.24214283),\n",
       " (1582, 0.2205754),\n",
       " (1137, 0.21920289),\n",
       " (19854, 0.21628055),\n",
       " (19839, 0.20969653),\n",
       " (19860, 0.20032915),\n",
       " (19862, 0.19683906),\n",
       " (19866, 0.19615814),\n",
       " (9887, 0.19272017),\n",
       " (19861, 0.19128653)]"
      ]
     },
     "execution_count": 256,
     "metadata": {},
     "output_type": "execute_result"
    }
   ],
   "source": [
    "recommendations"
   ]
  },
  {
   "cell_type": "code",
   "execution_count": 257,
   "metadata": {
    "ExecuteTime": {
     "end_time": "2020-02-10T17:53:31.303652Z",
     "start_time": "2020-02-10T17:53:31.299615Z"
    }
   },
   "outputs": [
    {
     "name": "stdout",
     "output_type": "stream",
     "text": [
      "www.voki.com\n",
      "www.wordle.net\n",
      "animoto.com\n",
      "www.youtube.com\n",
      "www.sldirectory.com\n",
      "www.search-cube.com\n",
      "www.visuwords.com\n",
      "udleditions.cast.org\n",
      "www.teachertube.com\n",
      "blachan.com\n"
     ]
    }
   ],
   "source": [
    "for r in recommendations:\n",
    "    print(url_id_name[str(r[0])])"
   ]
  },
  {
   "cell_type": "code",
   "execution_count": 259,
   "metadata": {
    "ExecuteTime": {
     "end_time": "2020-02-10T17:54:17.361378Z",
     "start_time": "2020-02-10T17:54:17.324351Z"
    }
   },
   "outputs": [],
   "source": [
    "itemid = 107\n",
    "related = model.similar_items(itemid)"
   ]
  },
  {
   "cell_type": "code",
   "execution_count": 260,
   "metadata": {
    "ExecuteTime": {
     "end_time": "2020-02-10T17:54:17.869498Z",
     "start_time": "2020-02-10T17:54:17.864347Z"
    }
   },
   "outputs": [
    {
     "data": {
      "text/plain": [
       "[(107, 0.11167308),\n",
       " (93, 0.11095884),\n",
       " (113, 0.11095213),\n",
       " (110, 0.11093406),\n",
       " (106, 0.11093404),\n",
       " (111, 0.11091643),\n",
       " (95, 0.11091642),\n",
       " (109, 0.11090896),\n",
       " (104, 0.110908955),\n",
       " (97, 0.11087035)]"
      ]
     },
     "execution_count": 260,
     "metadata": {},
     "output_type": "execute_result"
    }
   ],
   "source": [
    "related"
   ]
  },
  {
   "cell_type": "code",
   "execution_count": 262,
   "metadata": {
    "ExecuteTime": {
     "end_time": "2020-02-10T17:54:41.134241Z",
     "start_time": "2020-02-10T17:54:41.130013Z"
    }
   },
   "outputs": [
    {
     "data": {
      "text/plain": [
       "'www.artofalexfischer.com'"
      ]
     },
     "execution_count": 262,
     "metadata": {},
     "output_type": "execute_result"
    }
   ],
   "source": [
    "url_id_name['107']"
   ]
  },
  {
   "cell_type": "code",
   "execution_count": 264,
   "metadata": {
    "ExecuteTime": {
     "end_time": "2020-02-10T17:54:45.911829Z",
     "start_time": "2020-02-10T17:54:45.907834Z"
    }
   },
   "outputs": [
    {
     "name": "stdout",
     "output_type": "stream",
     "text": [
      "www.artofalexfischer.com\n",
      "www.oshiete-kun.net\n",
      "finn-johannsen.de\n",
      "www.youtube.com\n",
      "www.lorenzobernet.com\n",
      "www.youtube.com\n",
      "ubu.com\n",
      "www.lelesaveri.com\n",
      "sethlower.com\n",
      "www.youtube.com\n"
     ]
    }
   ],
   "source": [
    "for a in related:\n",
    "    print(url_id_name[str(a[0])])"
   ]
  }
 ],
 "metadata": {
  "kernelspec": {
   "display_name": "Python 3",
   "language": "python",
   "name": "python3"
  },
  "language_info": {
   "codemirror_mode": {
    "name": "ipython",
    "version": 3
   },
   "file_extension": ".py",
   "mimetype": "text/x-python",
   "name": "python",
   "nbconvert_exporter": "python",
   "pygments_lexer": "ipython3",
   "version": "3.7.3"
  }
 },
 "nbformat": 4,
 "nbformat_minor": 4
}
