{
 "cells": [
  {
   "cell_type": "markdown",
   "metadata": {},
   "source": [
    "### Задание 1\n",
    "\n",
    "Получить интуицию, на что влияют параметры распределений. Построить по 5 функций плотностей с разными параметрами для каждого распределения: нормальное, экспоненциальное, Стьюдента на одном графике."
   ]
  },
  {
   "cell_type": "code",
   "execution_count": 13,
   "metadata": {},
   "outputs": [],
   "source": [
    "import pandas as pd\n",
    "import numpy as np\n",
    "import matplotlib.pyplot as plt\n",
    "import scipy.stats as sts\n",
    "import math\n",
    "\n",
    "\n",
    "%matplotlib inline"
   ]
  },
  {
   "cell_type": "code",
   "execution_count": 14,
   "metadata": {},
   "outputs": [
    {
     "data": {
      "image/png": "[encoded data removed]",
      "text/plain": [
       "<Figure size 432x288 with 1 Axes>"
      ]
     },
     "metadata": {
      "needs_background": "light"
     },
     "output_type": "display_data"
    }
   ],
   "source": [
    "mu = 2.0\n",
    "sigma = 0.5\n",
    "norm_rv = sts.norm(loc=mu, scale=sigma)\n",
    "\n",
    "x = np.linspace(0,4,100)\n",
    "pdf = norm_rv.pdf(x)\n",
    "\n",
    "mu = 3.0\n",
    "sigma = 1.5\n",
    "norm_rv = sts.norm(loc=mu, scale=sigma)\n",
    "\n",
    "y = np.linspace(0,7,100)\n",
    "pdfy = norm_rv.pdf(y)\n",
    "\n",
    "# Экспоненциальное\n",
    "lam = 0.1\n",
    "expon_rv = sts.expon(lam)\n",
    "expon_rv.rvs(10)\n",
    "\n",
    "e = np.linspace(0,5,1000)\n",
    "pdfe = expon_rv.pdf(e)\n",
    "\n",
    "# Стьюдента\n",
    "\n",
    "n = 20\n",
    "t_rv = sts.t(n)\n",
    "t_rv.rvs(10)\n",
    "t = np.linspace(0,10,1000)\n",
    "pdft = t_rv.pdf(t-5)\n",
    "\n",
    "\n",
    "\n",
    "\n",
    "\n",
    "plt.plot(x, pdf)\n",
    "plt.plot(y, pdfy)\n",
    "plt.plot(e, pdfe)\n",
    "plt.plot(t, pdft)\n",
    "\n",
    "plt.ylabel('$f(x)$')\n",
    "plt.xlabel('$x$')\n",
    "plt.show()"
   ]
  },
  {
   "cell_type": "markdown",
   "metadata": {},
   "source": [
    "### Задание 2"
   ]
  },
  {
   "cell_type": "markdown",
   "metadata": {},
   "source": [
    "Непрерывная случайная величина задана плотностью распределения:\n",
    "$$ f(\\xi) = C, x \\in [0;5];f(\\xi) = 0, x \\notin [0;5]$$\n",
    "Найдите C, математическое ожидание $\\xi$ а также вероятность попадания $\\xi$ в отрезок $[3.5;7]$, т.е. $P(3.5<\\xi<7)$."
   ]
  },
  {
   "cell_type": "markdown",
   "metadata": {},
   "source": [
    "C = 0.2\n",
    "\n",
    "M(e) = 2,5\n",
    "\n",
    "P(3,5 < e < 7) = $0,2*5-0.2*3.5 = 0.3$"
   ]
  },
  {
   "cell_type": "markdown",
   "metadata": {},
   "source": [
    "### Задание 3\n",
    "Известно, что светофор горит 54 секунды красным, 4 секунды жёлтым и 28 секунд зелёным. Посчитайте, какое количество информации несёт сообщение о цвете светофора в текущий момент. А что будет в случае 28, 28 и 28 секунд для каждого цвета?"
   ]
  },
  {
   "cell_type": "code",
   "execution_count": 15,
   "metadata": {},
   "outputs": [],
   "source": [
    "inform = - (54/86*math.log(52/86,2)+28/86*math.log(28/86,2)+4/86*math.log(4/86,2))"
   ]
  },
  {
   "cell_type": "code",
   "execution_count": 16,
   "metadata": {},
   "outputs": [
    {
     "name": "stdout",
     "output_type": "stream",
     "text": [
      "1.188710305897076\n"
     ]
    }
   ],
   "source": [
    "print(inform)"
   ]
  },
  {
   "cell_type": "code",
   "execution_count": 17,
   "metadata": {},
   "outputs": [
    {
     "name": "stdout",
     "output_type": "stream",
     "text": [
      "1.584962500721156\n"
     ]
    }
   ],
   "source": [
    "inform = - (28/84*math.log(28/84,2)+28/84*math.log(28/84,2)+28/84*math.log(28/84,2))\n",
    "print(inform)"
   ]
  },
  {
   "cell_type": "code",
   "execution_count": 18,
   "metadata": {},
   "outputs": [
    {
     "name": "stdout",
     "output_type": "stream",
     "text": [
      "1.0\n"
     ]
    }
   ],
   "source": [
    "inform = - (1/2*math.log(1/2,2)+1/2*math.log(1/2,2))\n",
    "print(inform)"
   ]
  },
  {
   "cell_type": "code",
   "execution_count": 19,
   "metadata": {},
   "outputs": [
    {
     "name": "stdout",
     "output_type": "stream",
     "text": [
      "-1.5849625007211563\n"
     ]
    }
   ],
   "source": [
    "inform = - (math.log(3,2))\n",
    "print(inform)"
   ]
  }
 ],
 "metadata": {
  "kernelspec": {
   "display_name": "Python 3",
   "language": "python",
   "name": "python3"
  },
  "language_info": {
   "codemirror_mode": {
    "name": "ipython",
    "version": 3
   },
   "file_extension": ".py",
   "mimetype": "text/x-python",
   "name": "python",
   "nbconvert_exporter": "python",
   "pygments_lexer": "ipython3",
   "version": "3.7.4"
  }
 },
 "nbformat": 4,
 "nbformat_minor": 4
}
