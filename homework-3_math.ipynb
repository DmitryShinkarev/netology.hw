{
 "cells": [
  {
   "cell_type": "markdown",
   "metadata": {
    "colab_type": "text",
    "id": "BVfSob4x7yJ_"
   },
   "source": [
    "### Задание 1:"
   ]
  },
  {
   "cell_type": "markdown",
   "metadata": {
    "colab_type": "text",
    "id": "gPV8SZvR7yKB"
   },
   "source": [
    "Придумайте матрицы, которые обладают следующими свойствами:"
   ]
  },
  {
   "cell_type": "markdown",
   "metadata": {
    "colab_type": "text",
    "id": "TEF0DCsG7yKC"
   },
   "source": [
    "a) диагональная, ортогональная, но не единичная(!):\n",
    "\n",
    "b) верхнетреугольная, ортогональная:\n",
    "\n",
    "c) нижнетреугольная, ортогональная: \n",
    "\n",
    "d) матрица, у которой определитель = 1, и все элементы не равны 0:\n",
    "\n",
    "e) матрица (3x3), у которой определитель = 1:"
   ]
  },
  {
   "cell_type": "markdown",
   "metadata": {
    "colab_type": "text",
    "id": "ZmmHh5KM7yKD"
   },
   "source": [
    "P.S. Во всех пунктах ответом должна быть ненулевая матрица размерности не менее 2!"
   ]
  },
  {
   "cell_type": "code",
   "execution_count": 4,
   "metadata": {
    "colab": {},
    "colab_type": "code",
    "id": "Rt9Z6OZMuH66"
   },
   "outputs": [],
   "source": [
    "from scipy.stats import ortho_group\n",
    "import numpy as np"
   ]
  },
  {
   "cell_type": "code",
   "execution_count": 6,
   "metadata": {
    "colab": {
     "base_uri": "https://localhost:8080/",
     "height": 68
    },
    "colab_type": "code",
    "executionInfo": {
     "elapsed": 736,
     "status": "ok",
     "timestamp": 1580843600031,
     "user": {
      "displayName": "Дмитрий Шинкарев",
      "photoUrl": "https://lh3.googleusercontent.com/a-/AAuE7mDNO-Kb24s-NXaM0o30ylUPmeIZb9t5qFu2IEwkRw=s64",
      "userId": "06543861817146628848"
     },
     "user_tz": -180
    },
    "id": "rEQI-yRMnlGU",
    "outputId": "159ec34f-d700-4260-dc4d-7f580afbd72b"
   },
   "outputs": [
    {
     "name": "stdout",
     "output_type": "stream",
     "text": [
      "[[1 0 0]\n",
      " [0 2 0]\n",
      " [0 0 3]]\n"
     ]
    }
   ],
   "source": [
    "# Диагональная матрица\n",
    "m = np.diag([1,2,3])\n",
    "print(m)"
   ]
  },
  {
   "cell_type": "code",
   "execution_count": 7,
   "metadata": {
    "colab": {
     "base_uri": "https://localhost:8080/",
     "height": 68
    },
    "colab_type": "code",
    "executionInfo": {
     "elapsed": 1076,
     "status": "ok",
     "timestamp": 1580845315050,
     "user": {
      "displayName": "Дмитрий Шинкарев",
      "photoUrl": "https://lh3.googleusercontent.com/a-/AAuE7mDNO-Kb24s-NXaM0o30ylUPmeIZb9t5qFu2IEwkRw=s64",
      "userId": "06543861817146628848"
     },
     "user_tz": -180
    },
    "id": "iDRWeY_WIiwK",
    "outputId": "9d351776-723c-4e88-cc83-cd6d97922fc7"
   },
   "outputs": [
    {
     "name": "stdout",
     "output_type": "stream",
     "text": [
      "[[ 0.18687015 -0.97028873  0.1536858 ]\n",
      " [ 0.85364547  0.23780416  0.46339896]\n",
      " [ 0.48617791 -0.04459775 -0.87272108]]\n"
     ]
    }
   ],
   "source": [
    "# Ортогональная матрица\n",
    "m = ortho_group.rvs(dim=3)\n",
    "print(m)"
   ]
  },
  {
   "cell_type": "code",
   "execution_count": 8,
   "metadata": {
    "colab": {
     "base_uri": "https://localhost:8080/",
     "height": 68
    },
    "colab_type": "code",
    "executionInfo": {
     "elapsed": 732,
     "status": "ok",
     "timestamp": 1580845139956,
     "user": {
      "displayName": "Дмитрий Шинкарев",
      "photoUrl": "https://lh3.googleusercontent.com/a-/AAuE7mDNO-Kb24s-NXaM0o30ylUPmeIZb9t5qFu2IEwkRw=s64",
      "userId": "06543861817146628848"
     },
     "user_tz": -180
    },
    "id": "p97nHrajIiin",
    "outputId": "4682322a-2d2b-4226-dbce-11d91572a012"
   },
   "outputs": [
    {
     "data": {
      "text/plain": [
       "array([[ 0.        ,  0.        ,  0.        ],\n",
       "       [-0.46709249,  0.        ,  0.        ],\n",
       "       [ 0.73649646, -0.01566602,  0.        ]])"
      ]
     },
     "execution_count": 8,
     "metadata": {},
     "output_type": "execute_result"
    }
   ],
   "source": [
    "# ортогональная нижнетреугольная\n",
    "\n",
    "m = ortho_group.rvs(dim=3)\n",
    "m = np.tril(m, -1)\n",
    "m"
   ]
  },
  {
   "cell_type": "code",
   "execution_count": 9,
   "metadata": {
    "colab": {
     "base_uri": "https://localhost:8080/",
     "height": 68
    },
    "colab_type": "code",
    "executionInfo": {
     "elapsed": 698,
     "status": "ok",
     "timestamp": 1580845252566,
     "user": {
      "displayName": "Дмитрий Шинкарев",
      "photoUrl": "https://lh3.googleusercontent.com/a-/AAuE7mDNO-Kb24s-NXaM0o30ylUPmeIZb9t5qFu2IEwkRw=s64",
      "userId": "06543861817146628848"
     },
     "user_tz": -180
    },
    "id": "fT2R-mlRtwG3",
    "outputId": "08b3b4cb-4516-4111-fbfb-30d23fc70b0c"
   },
   "outputs": [
    {
     "data": {
      "text/plain": [
       "array([[ 0.        ,  0.33036462, -0.62955155],\n",
       "       [ 0.        ,  0.        , -0.67354198],\n",
       "       [ 0.        ,  0.        ,  0.        ]])"
      ]
     },
     "execution_count": 9,
     "metadata": {},
     "output_type": "execute_result"
    }
   ],
   "source": [
    "# ортогональная верхнетреугольная\n",
    "\n",
    "m = ortho_group.rvs(dim=3)\n",
    "m = np.triu(m, 1)\n",
    "m"
   ]
  },
  {
   "cell_type": "code",
   "execution_count": 10,
   "metadata": {
    "colab": {
     "base_uri": "https://localhost:8080/",
     "height": 85
    },
    "colab_type": "code",
    "executionInfo": {
     "elapsed": 740,
     "status": "ok",
     "timestamp": 1580845929691,
     "user": {
      "displayName": "Дмитрий Шинкарев",
      "photoUrl": "https://lh3.googleusercontent.com/a-/AAuE7mDNO-Kb24s-NXaM0o30ylUPmeIZb9t5qFu2IEwkRw=s64",
      "userId": "06543861817146628848"
     },
     "user_tz": -180
    },
    "id": "hLinDTBBuf9J",
    "outputId": "32a942d7-b21b-4836-afb6-af858b2aa0e7"
   },
   "outputs": [
    {
     "name": "stdout",
     "output_type": "stream",
     "text": [
      "[[1. 1. 1.]\n",
      " [1. 2. 1.]\n",
      " [1. 1. 2.]]\n",
      "1.0\n"
     ]
    }
   ],
   "source": [
    "m = np.array([[1, 1, 1], [1, 2, 1], [1, 1, 2]], dtype=np.float32)\n",
    "det = np.linalg.det(m)\n",
    "print(m)\n",
    "print(det)"
   ]
  },
  {
   "cell_type": "markdown",
   "metadata": {
    "colab_type": "text",
    "id": "ht1CwNHo7yKE"
   },
   "source": [
    "### Задание 2:"
   ]
  },
  {
   "cell_type": "markdown",
   "metadata": {
    "colab_type": "text",
    "id": "ODDw33b_7yKE"
   },
   "source": [
    "Найдите собственные значения и собственные вектора матриц (необходимо решение на numpy и честное решение на бумаге:)"
   ]
  },
  {
   "cell_type": "code",
   "execution_count": 11,
   "metadata": {
    "colab": {
     "base_uri": "https://localhost:8080/",
     "height": 51
    },
    "colab_type": "code",
    "executionInfo": {
     "elapsed": 1065,
     "status": "ok",
     "timestamp": 1580846317501,
     "user": {
      "displayName": "Дмитрий Шинкарев",
      "photoUrl": "https://lh3.googleusercontent.com/a-/AAuE7mDNO-Kb24s-NXaM0o30ylUPmeIZb9t5qFu2IEwkRw=s64",
      "userId": "06543861817146628848"
     },
     "user_tz": -180
    },
    "id": "2FP58o257yKF",
    "outputId": "b49799f6-24ab-4e44-f43f-6fddbca2a48e"
   },
   "outputs": [
    {
     "name": "stdout",
     "output_type": "stream",
     "text": [
      "[[2 2]\n",
      " [1 3]]\n"
     ]
    }
   ],
   "source": [
    "import numpy as np\n",
    "m = np.array([[2, 2],\n",
    "              [1, 3]])\n",
    "\n",
    "w, v = np.linalg.eig(m) \n",
    "print(m)"
   ]
  },
  {
   "cell_type": "code",
   "execution_count": 12,
   "metadata": {
    "colab": {
     "base_uri": "https://localhost:8080/",
     "height": 85
    },
    "colab_type": "code",
    "executionInfo": {
     "elapsed": 460,
     "status": "ok",
     "timestamp": 1580846318669,
     "user": {
      "displayName": "Дмитрий Шинкарев",
      "photoUrl": "https://lh3.googleusercontent.com/a-/AAuE7mDNO-Kb24s-NXaM0o30ylUPmeIZb9t5qFu2IEwkRw=s64",
      "userId": "06543861817146628848"
     },
     "user_tz": -180
    },
    "id": "SXoe92_kx0Kc",
    "outputId": "81d44955-5acd-41de-9e6a-dabf8226f8b7"
   },
   "outputs": [
    {
     "name": "stdout",
     "output_type": "stream",
     "text": [
      "Собственное значение 1.0\n",
      "соответствующий ему собственный вектор [-0.89442719 -0.70710678]\n",
      "Собственное значение 4.0\n",
      "соответствующий ему собственный вектор [ 0.4472136  -0.70710678]\n"
     ]
    }
   ],
   "source": [
    "for i in range(len(w)):\n",
    "    print(\"Собственное значение \" + str(w[i]))\n",
    "    print(\"соответствующий ему собственный вектор \" + str(v[i]))"
   ]
  },
  {
   "cell_type": "code",
   "execution_count": 13,
   "metadata": {
    "colab": {
     "base_uri": "https://localhost:8080/",
     "height": 34
    },
    "colab_type": "code",
    "executionInfo": {
     "elapsed": 764,
     "status": "ok",
     "timestamp": 1580846779408,
     "user": {
      "displayName": "Дмитрий Шинкарев",
      "photoUrl": "https://lh3.googleusercontent.com/a-/AAuE7mDNO-Kb24s-NXaM0o30ylUPmeIZb9t5qFu2IEwkRw=s64",
      "userId": "06543861817146628848"
     },
     "user_tz": -180
    },
    "id": "4QkKg9cqzoOR",
    "outputId": "a5d19d22-08e5-4cbe-b2b4-c39271c4751d"
   },
   "outputs": [
    {
     "data": {
      "text/plain": [
       "1.4142135623730951"
      ]
     },
     "execution_count": 13,
     "metadata": {},
     "output_type": "execute_result"
    }
   ],
   "source": [
    "import math\n",
    "math.sqrt(2)"
   ]
  },
  {
   "cell_type": "code",
   "execution_count": 14,
   "metadata": {
    "colab": {},
    "colab_type": "code",
    "id": "NY29bRioyKvr"
   },
   "outputs": [
    {
     "ename": "SyntaxError",
     "evalue": "EOF while scanning triple-quoted string literal (<ipython-input-14-ba22b3fa2643>, line 39)",
     "output_type": "error",
     "traceback": [
      "\u001b[1;36m  File \u001b[1;32m\"<ipython-input-14-ba22b3fa2643>\"\u001b[1;36m, line \u001b[1;32m39\u001b[0m\n\u001b[1;33m    \u001b[0m\n\u001b[1;37m    ^\u001b[0m\n\u001b[1;31mSyntaxError\u001b[0m\u001b[1;31m:\u001b[0m EOF while scanning triple-quoted string literal\n"
     ]
    }
   ],
   "source": [
    "'''\n",
    "\n",
    "[2 2]\n",
    "[1 3]\n",
    "\n",
    "Составляем систему для определения координат собственных векторов: \n",
    "(2 - λ)x1 + 2x2 = 0 \n",
    "1x1 + (3 - λ)x2 = 0 \n",
    "Составляем характеристическое уравнение и решаем его. \n",
    "2 - λ\t2\n",
    "1\t3 - λ\n",
    "\n",
    "Для этого находим определитель матрицы и приравниваем полученное выражение к нулю. \n",
    "((2 - λ) • (3 - λ)-1 • 2) = 0 \n",
    "После преобразований, получаем: \n",
    "λ2 -5 λ + 4 = 0 \n",
    "D=(-5)2 - 4·1·4=9 \n",
    "\n",
    "\n",
    "-2x1 + 2y1 = 0 \n",
    "1x1-1y1 = 0 \n",
    "Собственный вектор, отвечающий числу λ1 = 4 при x1 = 1: \n",
    "\n",
    "В качестве единичного собственного вектора принимаем вектор: \n",
    "\n",
    "где \n",
    "\n",
    "длина вектора x1. \n",
    "или \n",
    "\n",
    "Координаты второго собственного вектора, соответствующего второму собственному числу λ2 = 1, находим из системы: \n",
    "1x1 + 2y1 = 0 \n",
    "1x1 + 2y1 = 0 \n",
    "\n",
    "'''\n",
    "\n"
   ]
  },
  {
   "cell_type": "markdown",
   "metadata": {
    "colab_type": "text",
    "id": "S4qbyZxB7yKI"
   },
   "source": [
    "Для данного примера в честном решении можно \"угадать\" корни многочлена 3-ей степени, посмотрев на решение на numpy"
   ]
  },
  {
   "cell_type": "code",
   "execution_count": 15,
   "metadata": {
    "colab": {
     "base_uri": "https://localhost:8080/",
     "height": 68
    },
    "colab_type": "code",
    "executionInfo": {
     "elapsed": 2225,
     "status": "ok",
     "timestamp": 1580843118922,
     "user": {
      "displayName": "Дмитрий Шинкарев",
      "photoUrl": "https://lh3.googleusercontent.com/a-/AAuE7mDNO-Kb24s-NXaM0o30ylUPmeIZb9t5qFu2IEwkRw=s64",
      "userId": "06543861817146628848"
     },
     "user_tz": -180
    },
    "id": "IWhM-mhf7yKJ",
    "outputId": "57ae9d67-7519-49fc-8083-ebb7884cf45c"
   },
   "outputs": [
    {
     "name": "stdout",
     "output_type": "stream",
     "text": [
      "[[ 4  1 -1]\n",
      " [ 1  4 -1]\n",
      " [-1 -1  4]]\n"
     ]
    }
   ],
   "source": [
    "m = np.array([[4, 1, -1],\n",
    "              [1, 4, -1],\n",
    "              [-1, -1, 4]])\n",
    "print(m)"
   ]
  },
  {
   "cell_type": "markdown",
   "metadata": {
    "colab_type": "text",
    "id": "IjJEo8sc7yKL"
   },
   "source": [
    "### Задание 3:"
   ]
  },
  {
   "cell_type": "markdown",
   "metadata": {
    "colab_type": "text",
    "id": "fYujqXGU7yKM"
   },
   "source": [
    "Найдите спектральное разложение матрицы (честное решение на бумаге и на numpy)"
   ]
  },
  {
   "cell_type": "code",
   "execution_count": 37,
   "metadata": {
    "colab": {
     "base_uri": "https://localhost:8080/",
     "height": 51
    },
    "colab_type": "code",
    "executionInfo": {
     "elapsed": 2216,
     "status": "ok",
     "timestamp": 1580843118923,
     "user": {
      "displayName": "Дмитрий Шинкарев",
      "photoUrl": "https://lh3.googleusercontent.com/a-/AAuE7mDNO-Kb24s-NXaM0o30ylUPmeIZb9t5qFu2IEwkRw=s64",
      "userId": "06543861817146628848"
     },
     "user_tz": -180
    },
    "id": "kk4Kj5TT7yKN",
    "outputId": "9df2ad5b-208a-4540-c596-9660b863a9b7"
   },
   "outputs": [
    {
     "name": "stdout",
     "output_type": "stream",
     "text": [
      "[[1 2]\n",
      " [2 3]]\n"
     ]
    }
   ],
   "source": [
    "np.printoptions(precision = 2, suppress = True)\n",
    "\n",
    "m = np.array([[1,2],\n",
    "              [2,3]])\n",
    "print(m)"
   ]
  },
  {
   "cell_type": "code",
   "execution_count": 38,
   "metadata": {},
   "outputs": [
    {
     "data": {
      "text/plain": [
       "array([[1, 2],\n",
       "       [2, 3]])"
      ]
     },
     "execution_count": 38,
     "metadata": {},
     "output_type": "execute_result"
    }
   ],
   "source": [
    "np.printoptions(precision = 2, suppress = True)\n",
    "m"
   ]
  },
  {
   "cell_type": "code",
   "execution_count": 39,
   "metadata": {},
   "outputs": [],
   "source": [
    "v, a = np.linalg.eigh(m)"
   ]
  },
  {
   "cell_type": "code",
   "execution_count": 40,
   "metadata": {},
   "outputs": [
    {
     "data": {
      "text/plain": [
       "array([-0.23606798,  4.23606798])"
      ]
     },
     "execution_count": 40,
     "metadata": {},
     "output_type": "execute_result"
    }
   ],
   "source": [
    "v"
   ]
  },
  {
   "cell_type": "code",
   "execution_count": 41,
   "metadata": {},
   "outputs": [
    {
     "data": {
      "text/plain": [
       "array([[-0.85065081,  0.52573111],\n",
       "       [ 0.52573111,  0.85065081]])"
      ]
     },
     "execution_count": 41,
     "metadata": {},
     "output_type": "execute_result"
    }
   ],
   "source": [
    "a"
   ]
  },
  {
   "cell_type": "code",
   "execution_count": 42,
   "metadata": {},
   "outputs": [],
   "source": [
    "D = np.diag(v)"
   ]
  },
  {
   "cell_type": "code",
   "execution_count": 43,
   "metadata": {},
   "outputs": [
    {
     "data": {
      "text/plain": [
       "array([[-0.23606798,  0.        ],\n",
       "       [ 0.        ,  4.23606798]])"
      ]
     },
     "execution_count": 43,
     "metadata": {},
     "output_type": "execute_result"
    }
   ],
   "source": [
    "D"
   ]
  },
  {
   "cell_type": "code",
   "execution_count": 44,
   "metadata": {},
   "outputs": [],
   "source": [
    "S = a.T"
   ]
  },
  {
   "cell_type": "code",
   "execution_count": 45,
   "metadata": {},
   "outputs": [
    {
     "data": {
      "text/plain": [
       "array([[-0.85065081,  0.52573111],\n",
       "       [ 0.52573111,  0.85065081]])"
      ]
     },
     "execution_count": 45,
     "metadata": {},
     "output_type": "execute_result"
    }
   ],
   "source": [
    "S"
   ]
  },
  {
   "cell_type": "code",
   "execution_count": 46,
   "metadata": {},
   "outputs": [
    {
     "data": {
      "text/plain": [
       "array([[-0.85065081,  0.52573111],\n",
       "       [ 0.52573111,  0.85065081]])"
      ]
     },
     "execution_count": 46,
     "metadata": {},
     "output_type": "execute_result"
    }
   ],
   "source": [
    "S.T"
   ]
  },
  {
   "cell_type": "code",
   "execution_count": 47,
   "metadata": {},
   "outputs": [
    {
     "data": {
      "text/plain": [
       "array([[ 1.0000000e+00, -1.2127222e-17],\n",
       "       [-1.2127222e-17,  1.0000000e+00]])"
      ]
     },
     "execution_count": 47,
     "metadata": {},
     "output_type": "execute_result"
    }
   ],
   "source": [
    "np.dot(S.T, S)"
   ]
  },
  {
   "cell_type": "code",
   "execution_count": 48,
   "metadata": {},
   "outputs": [
    {
     "data": {
      "text/plain": [
       "array([[1., 2.],\n",
       "       [2., 3.]])"
      ]
     },
     "execution_count": 48,
     "metadata": {},
     "output_type": "execute_result"
    }
   ],
   "source": [
    "np.dot(np.dot(S.T,D), S)"
   ]
  },
  {
   "cell_type": "code",
   "execution_count": null,
   "metadata": {},
   "outputs": [],
   "source": []
  },
  {
   "cell_type": "markdown",
   "metadata": {
    "colab_type": "text",
    "id": "PA092fiJ7yKP"
   },
   "source": [
    "### Задание 4:"
   ]
  },
  {
   "cell_type": "markdown",
   "metadata": {
    "colab_type": "text",
    "id": "0puLbkkO7yKQ"
   },
   "source": [
    "Для примера из лекции постройте график зависимости oob_score RandomForestClassifier от количества компонент при сжатии с помощью SVD"
   ]
  },
  {
   "cell_type": "code",
   "execution_count": 7,
   "metadata": {
    "colab": {},
    "colab_type": "code",
    "id": "QWGqZqE87yKR"
   },
   "outputs": [],
   "source": [
    "import numpy as np\n",
    "import pylab as pl\n",
    "import warnings\n",
    "\n",
    "from matplotlib import pyplot as plt\n",
    "from scipy import linalg\n",
    "from sklearn.datasets import load_digits\n",
    "from sklearn.decomposition import TruncatedSVD\n",
    "from sklearn.ensemble import RandomForestClassifier\n",
    "warnings.filterwarnings(\"ignore\")"
   ]
  },
  {
   "cell_type": "code",
   "execution_count": 8,
   "metadata": {
    "colab": {},
    "colab_type": "code",
    "id": "hIJdZ1x87yKa"
   },
   "outputs": [],
   "source": [
    "float_formatter = lambda x: \"%.2f\" % x\n",
    "np.set_printoptions(formatter={'float_kind':float_formatter})"
   ]
  },
  {
   "cell_type": "code",
   "execution_count": 9,
   "metadata": {
    "colab": {},
    "colab_type": "code",
    "id": "CQVzz8ey7yKd"
   },
   "outputs": [],
   "source": [
    "X, y = load_digits(return_X_y=True)"
   ]
  },
  {
   "cell_type": "code",
   "execution_count": 10,
   "metadata": {
    "colab": {
     "base_uri": "https://localhost:8080/",
     "height": 51
    },
    "colab_type": "code",
    "executionInfo": {
     "elapsed": 2522,
     "status": "ok",
     "timestamp": 1580843119247,
     "user": {
      "displayName": "Дмитрий Шинкарев",
      "photoUrl": "https://lh3.googleusercontent.com/a-/AAuE7mDNO-Kb24s-NXaM0o30ylUPmeIZb9t5qFu2IEwkRw=s64",
      "userId": "06543861817146628848"
     },
     "user_tz": -180
    },
    "id": "2h9Tk0tK7yKf",
    "outputId": "bd9d1eec-4213-4c86-e253-ee6b974584d2"
   },
   "outputs": [
    {
     "name": "stdout",
     "output_type": "stream",
     "text": [
      "(1797, 64)\n",
      "(1797,)\n"
     ]
    }
   ],
   "source": [
    "print(X.shape)\n",
    "print(y.shape)"
   ]
  },
  {
   "cell_type": "code",
   "execution_count": 11,
   "metadata": {
    "colab": {
     "base_uri": "https://localhost:8080/",
     "height": 275
    },
    "colab_type": "code",
    "executionInfo": {
     "elapsed": 2513,
     "status": "ok",
     "timestamp": 1580843119247,
     "user": {
      "displayName": "Дмитрий Шинкарев",
      "photoUrl": "https://lh3.googleusercontent.com/a-/AAuE7mDNO-Kb24s-NXaM0o30ylUPmeIZb9t5qFu2IEwkRw=s64",
      "userId": "06543861817146628848"
     },
     "user_tz": -180
    },
    "id": "UGwVP6H97yKh",
    "outputId": "14499021-56e8-4422-8b7f-65134f9de43f"
   },
   "outputs": [
    {
     "data": {
      "image/png": "[encoded data removed]",
      "text/plain": [
       "<Figure size 288x288 with 1 Axes>"
      ]
     },
     "metadata": {
      "needs_background": "light"
     },
     "output_type": "display_data"
    }
   ],
   "source": [
    "image = X[0]\n",
    "image = image.reshape((8, 8))\n",
    "plt.matshow(image, cmap = 'gray')\n",
    "plt.show()"
   ]
  },
  {
   "cell_type": "code",
   "execution_count": 54,
   "metadata": {
    "colab": {
     "base_uri": "https://localhost:8080/",
     "height": 34
    },
    "colab_type": "code",
    "executionInfo": {
     "elapsed": 3327,
     "status": "ok",
     "timestamp": 1580843120071,
     "user": {
      "displayName": "Дмитрий Шинкарев",
      "photoUrl": "https://lh3.googleusercontent.com/a-/AAuE7mDNO-Kb24s-NXaM0o30ylUPmeIZb9t5qFu2IEwkRw=s64",
      "userId": "06543861817146628848"
     },
     "user_tz": -180
    },
    "id": "j8cJgvYJ7yKk",
    "outputId": "e648c0a5-4603-46e9-d4f3-f0e63a31416e"
   },
   "outputs": [
    {
     "data": {
      "text/plain": [
       "0.5152669001651179"
      ]
     },
     "execution_count": 54,
     "metadata": {},
     "output_type": "execute_result"
    }
   ],
   "source": [
    "svd = TruncatedSVD(n_components=5)\n",
    "X_reduced = svd.fit_transform(X)\n",
    "svd.explained_variance_ratio_.sum()"
   ]
  },
  {
   "cell_type": "code",
   "execution_count": 55,
   "metadata": {
    "colab": {
     "base_uri": "https://localhost:8080/",
     "height": 34
    },
    "colab_type": "code",
    "executionInfo": {
     "elapsed": 3319,
     "status": "ok",
     "timestamp": 1580843120072,
     "user": {
      "displayName": "Дмитрий Шинкарев",
      "photoUrl": "https://lh3.googleusercontent.com/a-/AAuE7mDNO-Kb24s-NXaM0o30ylUPmeIZb9t5qFu2IEwkRw=s64",
      "userId": "06543861817146628848"
     },
     "user_tz": -180
    },
    "id": "qYltsXoZ7yKm",
    "outputId": "a83f7fa5-8573-4b39-a125-215997abc2ac"
   },
   "outputs": [
    {
     "data": {
      "text/plain": [
       "0.7829716193656093"
      ]
     },
     "execution_count": 55,
     "metadata": {},
     "output_type": "execute_result"
    }
   ],
   "source": [
    "rf_reduced = RandomForestClassifier(oob_score=True)\n",
    "rf_reduced.fit(X_reduced, y)\n",
    "rf_reduced.oob_score_"
   ]
  },
  {
   "cell_type": "code",
   "execution_count": 12,
   "metadata": {},
   "outputs": [],
   "source": [
    "def score(n_comp):\n",
    "    \n",
    "    svd = TruncatedSVD(n_components=n_comp)\n",
    "    X_reduced = svd.fit_transform(X)\n",
    "    svd.explained_variance_ratio_.sum()\n",
    "\n",
    "    rf_reduced = RandomForestClassifier(oob_score=True)\n",
    "    rf_reduced.fit(X_reduced, y)\n",
    "    return  rf_reduced.oob_score_\n",
    "    \n",
    "    "
   ]
  },
  {
   "cell_type": "code",
   "execution_count": 15,
   "metadata": {},
   "outputs": [],
   "source": [
    "import pandas as pd\n",
    "\n",
    "dict_m = {}\n",
    "ittr = 1\n",
    "\n",
    "while ittr <= 8:\n",
    "    dict_m[ittr] = score(ittr)\n",
    "    ittr += 1    "
   ]
  },
  {
   "cell_type": "code",
   "execution_count": 16,
   "metadata": {},
   "outputs": [
    {
     "data": {
      "text/plain": [
       "{1: 0.11574846967167501,\n",
       " 2: 0.3828603227601558,\n",
       " 3: 0.6204785754034502,\n",
       " 4: 0.7356705620478575,\n",
       " 5: 0.8074568725653868,\n",
       " 6: 0.8486366165831942,\n",
       " 7: 0.8430717863105175,\n",
       " 8: 0.8530884808013356}"
      ]
     },
     "execution_count": 16,
     "metadata": {},
     "output_type": "execute_result"
    }
   ],
   "source": [
    "dict_m"
   ]
  },
  {
   "cell_type": "code",
   "execution_count": 23,
   "metadata": {},
   "outputs": [
    {
     "data": {
      "text/html": [
       "<div>\n",
       "<style scoped>\n",
       "    .dataframe tbody tr th:only-of-type {\n",
       "        vertical-align: middle;\n",
       "    }\n",
       "\n",
       "    .dataframe tbody tr th {\n",
       "        vertical-align: top;\n",
       "    }\n",
       "\n",
       "    .dataframe thead th {\n",
       "        text-align: right;\n",
       "    }\n",
       "</style>\n",
       "<table border=\"1\" class=\"dataframe\">\n",
       "  <thead>\n",
       "    <tr style=\"text-align: right;\">\n",
       "      <th></th>\n",
       "      <th>n_components</th>\n",
       "      <th>score</th>\n",
       "    </tr>\n",
       "  </thead>\n",
       "  <tbody>\n",
       "    <tr>\n",
       "      <th>0</th>\n",
       "      <td>1</td>\n",
       "      <td>0.115748</td>\n",
       "    </tr>\n",
       "    <tr>\n",
       "      <th>1</th>\n",
       "      <td>2</td>\n",
       "      <td>0.382860</td>\n",
       "    </tr>\n",
       "    <tr>\n",
       "      <th>2</th>\n",
       "      <td>3</td>\n",
       "      <td>0.620479</td>\n",
       "    </tr>\n",
       "    <tr>\n",
       "      <th>3</th>\n",
       "      <td>4</td>\n",
       "      <td>0.735671</td>\n",
       "    </tr>\n",
       "    <tr>\n",
       "      <th>4</th>\n",
       "      <td>5</td>\n",
       "      <td>0.807457</td>\n",
       "    </tr>\n",
       "    <tr>\n",
       "      <th>5</th>\n",
       "      <td>6</td>\n",
       "      <td>0.848637</td>\n",
       "    </tr>\n",
       "    <tr>\n",
       "      <th>6</th>\n",
       "      <td>7</td>\n",
       "      <td>0.843072</td>\n",
       "    </tr>\n",
       "    <tr>\n",
       "      <th>7</th>\n",
       "      <td>8</td>\n",
       "      <td>0.853088</td>\n",
       "    </tr>\n",
       "  </tbody>\n",
       "</table>\n",
       "</div>"
      ],
      "text/plain": [
       "   n_components     score\n",
       "0             1  0.115748\n",
       "1             2  0.382860\n",
       "2             3  0.620479\n",
       "3             4  0.735671\n",
       "4             5  0.807457\n",
       "5             6  0.848637\n",
       "6             7  0.843072\n",
       "7             8  0.853088"
      ]
     },
     "execution_count": 23,
     "metadata": {},
     "output_type": "execute_result"
    }
   ],
   "source": [
    "df = pd.DataFrame(dict_m.items(), columns=['n_components', 'score'])\n",
    "df"
   ]
  },
  {
   "cell_type": "code",
   "execution_count": 30,
   "metadata": {},
   "outputs": [
    {
     "data": {
      "text/plain": [
       "<matplotlib.axes._subplots.AxesSubplot at 0x249b2fe7978>"
      ]
     },
     "execution_count": 30,
     "metadata": {},
     "output_type": "execute_result"
    },
    {
     "data": {
      "image/png": "[encoded data removed]",
      "text/plain": [
       "<Figure size 432x288 with 1 Axes>"
      ]
     },
     "metadata": {
      "needs_background": "light"
     },
     "output_type": "display_data"
    }
   ],
   "source": [
    "graffic = df.groupby('n_components')['score'].mean()\n",
    "graffic.plot()"
   ]
  },
  {
   "cell_type": "code",
   "execution_count": null,
   "metadata": {},
   "outputs": [],
   "source": []
  }
 ],
 "metadata": {
  "colab": {
   "name": "homework-3.ipynb",
   "provenance": []
  },
  "kernelspec": {
   "display_name": "Python 3",
   "language": "python",
   "name": "python3"
  },
  "language_info": {
   "codemirror_mode": {
    "name": "ipython",
    "version": 3
   },
   "file_extension": ".py",
   "mimetype": "text/x-python",
   "name": "python",
   "nbconvert_exporter": "python",
   "pygments_lexer": "ipython3",
   "version": "3.7.3"
  }
 },
 "nbformat": 4,
 "nbformat_minor": 4
}
