{
 "cells": [
  {
   "cell_type": "markdown",
   "metadata": {},
   "source": [
    "**Задание 1**. Даны 2 строки: *long_phrase* и *short_phrase*. \n",
    "Напишите код, который проверяет действительно ли длинная фраза *long_phrase* длиннее короткой *short_phrase*. И выводит *True* или *False* в зависимости от результата сравнения."
   ]
  },
  {
   "cell_type": "code",
   "execution_count": 8,
   "metadata": {},
   "outputs": [],
   "source": [
    "long_phrase = 'Насколько проще было бы писать программы, если бы не заказчики'\n",
    "short_phrase = '640Кб должно хватить для любых задач. Билл Гейтс (по легенде)'"
   ]
  },
  {
   "cell_type": "code",
   "execution_count": 9,
   "metadata": {},
   "outputs": [
    {
     "name": "stdout",
     "output_type": "stream",
     "text": [
      "long_phrase действительно длинее\n"
     ]
    }
   ],
   "source": [
    "if len(long_phrase) > len(short_phrase):\n",
    "    print('long_phrase действительно длинее')\n",
    "elif len(long_phrase) < len(short_phrase):\n",
    "    print('short_phrase оказывается длинее')\n",
    "else:\n",
    "    print('да они же ровны')"
   ]
  },
  {
   "cell_type": "markdown",
   "metadata": {},
   "source": [
    "**Задание 2**. Дано значение объема файла в байтах. Напишите перевод этого значения в мегабайты в формате: \"*Объем файла равен 213.68Mb*\""
   ]
  },
  {
   "cell_type": "code",
   "execution_count": 32,
   "metadata": {},
   "outputs": [
    {
     "name": "stdout",
     "output_type": "stream",
     "text": [
      "Введите количество байт 769797678679\n",
      "Объем файла равен 95.73Mb\n"
     ]
    }
   ],
   "source": [
    "count_bait = int(input('Введите количество байт '))\n",
    "count_bait = round(count_bait**(1/6),2)\n",
    "print('Объем файла равен {0}Mb'.format(count_bait))"
   ]
  },
  {
   "cell_type": "markdown",
   "metadata": {},
   "source": [
    "**Задание 3**. Разработать приложение для определения знака зодиака по дате рождения. Пример:\n",
    "\n",
    "Введите месяц: март\n",
    "\n",
    "Введите число: 6\n",
    "\n",
    "Вывод:\n",
    "Рыбы"
   ]
  },
  {
   "cell_type": "code",
   "execution_count": 24,
   "metadata": {},
   "outputs": [],
   "source": [
    "def unction_getZodiac (month, day):\n",
    "    # массив с названиями знаков зодиака\n",
    "    zodiacName = [\n",
    "        \"Козерог\", \"Водолей\", \"Рыбы\", \n",
    "        \"Овен\", \"Телец\", \"Близнецы\", \n",
    "        \"Рак\", \"Лев\", \"Девы\", \n",
    "        \"Весы\", \"Скорпион\", \"Стрелец\"]\n",
    "    \n",
    "    # массив дней, с которых сменяется знак зодиака\n",
    "    zodiacDate = [\n",
    "        21, 20, 20, 20, 20, 20, \n",
    "        21, 22, 23, 23, 23, 23]\n",
    "    \n",
    "    # если в выбранный день месяца знак уже сменился\n",
    "    if (day < zodiacDate[month - 1]):\n",
    "        result = zodiacName[month - 1]\n",
    "    else:\n",
    "        if(month == 12): \n",
    "            month = 0 \n",
    "            result = zodiacName[month]\n",
    "    \n",
    "    return result\n",
    "\n",
    "def ret_mounth(month_str):\n",
    "    \n",
    "    months = ['Январь', 'Февраль', 'Март', \n",
    "                'Апрель', 'Май', 'Июнь', 'Июль', \n",
    "                'Август', 'Сентябрь', 'Октябрь', \n",
    "                'Ноябрь', 'Декабрь']\n",
    "    \n",
    "    return months.index(month_str) + 1\n"
   ]
  },
  {
   "cell_type": "code",
   "execution_count": 31,
   "metadata": {},
   "outputs": [
    {
     "name": "stdout",
     "output_type": "stream",
     "text": [
      "Введите месяц вашего рождения май\n",
      "Введите день вашего рождения 3\n",
      "Телец\n"
     ]
    }
   ],
   "source": [
    "month_str = input('Введите месяц вашего рождения ')\n",
    "month = ret_mounth(month_str.title())\n",
    "day = int(input('Введите день вашего рождения '))\n",
    "\n",
    "res = unction_getZodiac (month, day)\n",
    "print(res)"
   ]
  },
  {
   "cell_type": "markdown",
   "metadata": {},
   "source": [
    "**Задание 4**. Нужно разработать приложение для финансового планирования.\n",
    "Приложение учитывает сколько уходит на ипотеку, \"на жизнь\" и сколько нужно отложить на пенсию.\n",
    "Пользователь вводит:\n",
    "- заработанную плату в месяц.\n",
    "- сколько процентов от ЗП уходит на ипотеку.\n",
    "- сколько процентов от ЗП уходит \"на жизнь\".\n",
    "- сколько раз приходит премия в год.\n",
    "\n",
    "Остальная часть заработанной платы откладывается на пенсию.\n",
    "\n",
    "Также пользователю приходит премия в размере зарплаты, от которой половина уходит на отпуск, а вторая половина откладывается.\n",
    "\n",
    "Программа должна учитывать сколько премий было в год.\n",
    "\n",
    "Нужно вывести сколько денег тратит пользователь на ипотеку и сколько он накопит за год.\n",
    "\n",
    "Пример:\n",
    "\n",
    "Введите заработанную плату в месяц: 100000\n",
    "\n",
    "Введите сколько процентов уходит на ипотеку: 30\n",
    "\n",
    "Введите сколько процентов уходит на жизнь: 50\n",
    "\n",
    "Введите количество премий за год: 2\n",
    "\n",
    "Вывод:\n",
    "На ипотеку было потрачено: 360000 рублей\n",
    "Было накоплено: 340000 рублей"
   ]
  },
  {
   "cell_type": "code",
   "execution_count": 41,
   "metadata": {},
   "outputs": [
    {
     "name": "stdout",
     "output_type": "stream",
     "text": [
      "Введите заработанную плату в месяц: 100000\n",
      "Введите сколько процентов уходит на ипотеку: 30\n",
      "Введите сколько процентов уходит на жизнь: 50\n",
      "Введите количество премий за год: 2\n",
      "1200000 360000.0 600000.0\n",
      "На ипотеку было потрачено: 360000.0 рублей Было накоплено: 340000.0 рублей\n"
     ]
    }
   ],
   "source": [
    "month_salary = int(input('Введите заработанную плату в месяц: '))\n",
    "per_property = int(input('Введите сколько процентов уходит на ипотеку: '))\n",
    "per_life = int(input('Введите сколько процентов уходит на жизнь: '))\n",
    "count_prize = int(input('Введите количество премий за год: '))\n",
    "\n",
    "x = round(month_salary * 12, 2)\n",
    "summ_property = round(x/100*per_property, 2)\n",
    "summ_live = round(x/100*per_life, 2)\n",
    "\n",
    "pension = (((month_salary * count_prize)/2) + x) - (summ_property + summ_live)\n",
    "\n",
    "print('На ипотеку было потрачено: {0} рублей Было накоплено: {1} рублей'.format(summ_property, pension))"
   ]
  }
 ],
 "metadata": {
  "kernelspec": {
   "display_name": "Python 3",
   "language": "python",
   "name": "python3"
  },
  "language_info": {
   "codemirror_mode": {
    "name": "ipython",
    "version": 3
   },
   "file_extension": ".py",
   "mimetype": "text/x-python",
   "name": "python",
   "nbconvert_exporter": "python",
   "pygments_lexer": "ipython3",
   "version": "3.7.3"
  }
 },
 "nbformat": 4,
 "nbformat_minor": 2
}
