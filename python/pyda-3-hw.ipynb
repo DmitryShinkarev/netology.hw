{
 "cells": [
  {
   "cell_type": "markdown",
   "metadata": {},
   "source": [
    "## Задание 1"
   ]
  },
  {
   "cell_type": "markdown",
   "metadata": {},
   "source": [
    "Дан список вида:"
   ]
  },
  {
   "cell_type": "code",
   "execution_count": 1,
   "metadata": {},
   "outputs": [],
   "source": [
    "data = [\n",
    "    [13, 25, 23, 34],\n",
    "    [45, 32, 44, 47],\n",
    "    [12, 33, 23, 95],\n",
    "    [13, 53, 34, 35]\n",
    "]"
   ]
  },
  {
   "cell_type": "code",
   "execution_count": 3,
   "metadata": {},
   "outputs": [],
   "source": [
    "def sum_element(data):\n",
    "    \n",
    "    count = 0\n",
    "    sum_elemen = 0\n",
    "    \n",
    "    for row in data:\n",
    "        \n",
    "        sum_elemen += row[count] \n",
    "        count += 1\n",
    "    \n",
    "    print(sum_elemen)\n",
    "    "
   ]
  },
  {
   "cell_type": "code",
   "execution_count": 5,
   "metadata": {},
   "outputs": [
    {
     "name": "stdout",
     "output_type": "stream",
     "text": [
      "103\n",
      "103\n"
     ]
    }
   ],
   "source": [
    "sum_element(data)\n",
    "print(13+32+23+35)"
   ]
  },
  {
   "cell_type": "markdown",
   "metadata": {},
   "source": [
    "Напишите функцию, которая возвращает сумму элементов на диагонали. Т. е. 13+32+23+35."
   ]
  },
  {
   "cell_type": "markdown",
   "metadata": {},
   "source": [
    "## Задание 2"
   ]
  },
  {
   "cell_type": "markdown",
   "metadata": {},
   "source": [
    "Дан список чисел, часть из которых имеют строковый тип или содержат буквы. Напишите функцию, которая возвращает сумму квадратов элементов, которые могут быть числами."
   ]
  },
  {
   "cell_type": "code",
   "execution_count": 6,
   "metadata": {},
   "outputs": [],
   "source": [
    "data = [1, '5', 'abc', 20, '2']"
   ]
  },
  {
   "cell_type": "code",
   "execution_count": 7,
   "metadata": {},
   "outputs": [],
   "source": [
    "def maybe_decimal_q(data):\n",
    "    \n",
    "    sum_q = 0\n",
    "    \n",
    "    for row in data:\n",
    "        try: sum_q += int(row)**2\n",
    "        except: continue    \n",
    "     \n",
    "    print(sum_q)"
   ]
  },
  {
   "cell_type": "code",
   "execution_count": 8,
   "metadata": {},
   "outputs": [
    {
     "name": "stdout",
     "output_type": "stream",
     "text": [
      "430\n"
     ]
    }
   ],
   "source": [
    "maybe_decimal_q(data)"
   ]
  },
  {
   "cell_type": "markdown",
   "metadata": {},
   "source": [
    "## Задание 3"
   ]
  },
  {
   "cell_type": "markdown",
   "metadata": {},
   "source": [
    "Напишите функцию, возвращающую сумму первых n чисел Фибоначчи."
   ]
  },
  {
   "cell_type": "code",
   "execution_count": 84,
   "metadata": {},
   "outputs": [],
   "source": [
    "from functools import lru_cache\n",
    " \n",
    "@lru_cache(maxsize=None)\n",
    "def fib(n):\n",
    "    if n < 2:\n",
    "        return n\n",
    "    return fib(n-1) + fib(n-2)\n",
    " "
   ]
  },
  {
   "cell_type": "code",
   "execution_count": 86,
   "metadata": {},
   "outputs": [
    {
     "name": "stdout",
     "output_type": "stream",
     "text": [
      "1596\n"
     ]
    }
   ],
   "source": [
    "num = 16 \n",
    "a = [fib(n) for n in range(num)]\n",
    "print(sum(a))"
   ]
  },
  {
   "cell_type": "markdown",
   "metadata": {},
   "source": [
    "## Задание 4"
   ]
  },
  {
   "cell_type": "markdown",
   "metadata": {},
   "source": [
    "Дан набор данных об обучении студентов на курсе программирования, который содержит: \n",
    "1) имя\n",
    "2) фамилию \n",
    "3) пол \n",
    "4) наличие у студента опыта в программировании \n",
    "5) набор оценок за домашние работы \n",
    "6) оценку за итоговую работу.\n",
    "\n",
    "Напишите программу, которая будет принимать команду от пользователя и возвращать соотвествующий результат.\n",
    "Список команд: \n",
    "1 - вывести на экран среднюю оценку за все ДЗ по группе и вывести на экран среднюю оценку за экзамен по группе;\n",
    "2 - вывести среднюю оценку за ДЗ и за экзамен по группе в разрезе пола студентов\n",
    "3 - вывести среднюю оценку за ДЗ и за экзамен в разрезе наличия опыта в программировании у студентов.\n",
    "\n",
    "Прогрмма должна быть полностью декомпозирована на функции (кроме объявления функций и вызова итоговой функции в реализации ничего быть не должно)."
   ]
  },
  {
   "cell_type": "code",
   "execution_count": 105,
   "metadata": {},
   "outputs": [],
   "source": [
    "students_list = [\n",
    "    {'name': 'Василий', 'surname': 'Теркин', 'sex': 'м', 'program_exp': True, 'grade': [8, 8, 9, 10, 9], 'exam': 9},\n",
    "    {'name': 'Мария', 'surname': 'Павлова', 'sex': 'ж', 'program_exp': True, 'grade': [7, 8, 9, 7, 9], 'exam': 8},\n",
    "    {'name': 'Ирина', 'surname': 'Андреева', 'sex': 'ж', 'program_exp': True, 'grade': [10, 9, 8, 10, 10], 'exam': 10},\n",
    "    {'name': 'Татьяна', 'surname': 'Сидорова', 'sex': 'ж', 'program_exp': True, 'grade': [7, 8, 8, 9, 8], 'exam': 8},\n",
    "    {'name': 'Иван', 'surname': 'Васильев', 'sex': 'ж', 'program_exp': True, 'grade': [9, 8, 9, 6, 9], 'exam': 10},\n",
    "    {'name': 'Роман', 'surname': 'Золотарев', 'sex': 'ж', 'program_exp': False, 'grade': [8, 9, 9, 6, 9], 'exam': 10}\n",
    "]"
   ]
  },
  {
   "cell_type": "code",
   "execution_count": 119,
   "metadata": {},
   "outputs": [],
   "source": [
    "import numpy\n",
    "\n",
    "def select_mean(type_qaery, data):\n",
    "    \n",
    "    if type_qaery == 1: \n",
    "        # вывести на экран среднюю оценку за все ДЗ по группе и вывести на экран среднюю оценку за экзамен по группе\n",
    "        \n",
    "        mean_group_hw = []\n",
    "        mean_group_ex = []\n",
    "        \n",
    "        for i in data:\n",
    "            mean_group_hw.append(i['grade'])\n",
    "            mean_group_ex.append(i['exam'])\n",
    "        \n",
    "        print('средняя оценка за все ДЗ ', numpy.mean(mean_group_hw)) \n",
    "        print('средняя оценка за экзамен ', numpy.mean(mean_group_ex)) \n",
    "            \n",
    "    elif type_qaery == 2:\n",
    "        # вывести среднюю оценку за ДЗ и за экзамен по группе в разрезе пола студентов.\n",
    "        \n",
    "        mean_group_hw_w = []\n",
    "        mean_group_ex_w = []\n",
    "        mean_group_ex_h = []\n",
    "        mean_group_hw_h = []\n",
    "        \n",
    "        for i in data:\n",
    "            if i['sex'] == 'ж':\n",
    "                mean_group_hw_w.append(i['grade'])\n",
    "                mean_group_ex_w.append(i['exam'])\n",
    "            elif i['sex'] == 'м':\n",
    "                mean_group_hw_h.append(i['grade'])\n",
    "                mean_group_ex_h.append(i['exam'])\n",
    "        \n",
    "        print('средняя оценка за все ДЗ для мальчиков', numpy.mean(mean_group_hw_h)) \n",
    "        print('средняя оценка за экзамен для мальчиков', numpy.mean(mean_group_ex_h)) \n",
    "        print()\n",
    "        print('средняя оценка за все ДЗ для девочек', numpy.mean(mean_group_hw_w)) \n",
    "        print('средняя оценка за экзамен для девочек', numpy.mean(mean_group_ex_w)) \n",
    "        \n",
    "            \n",
    "        \n",
    "    elif type_qaery == 3:  \n",
    "        # вывести среднюю оценку за ДЗ и за экзамен в разрезе наличия опыта в программировании у студентов.\n",
    "        \n",
    "        mean_group_hw_ex = []\n",
    "        mean_group_ex_ex = []\n",
    "        mean_group_ex_nex = []\n",
    "        mean_group_hw_nex = []\n",
    "        \n",
    "        for i in data:\n",
    "            if i['program_exp']:\n",
    "                mean_group_hw_ex.append(i['grade'])\n",
    "                mean_group_ex_ex.append(i['exam'])\n",
    "            elif not i['program_exp']:\n",
    "                mean_group_hw_nex.append(i['grade'])\n",
    "                mean_group_ex_nex.append(i['exam'])\n",
    "        \n",
    "        print('средняя оценка за все ДЗ для людей имеющих опыт программирования', numpy.mean(mean_group_hw_ex)) \n",
    "        print('средняя оценка за экзамен для людей имеющих опыт программирования', numpy.mean(mean_group_ex_ex)) \n",
    "        print()\n",
    "        print('средняя оценка за все ДЗ для людей не имеющих опыт программирования', numpy.mean(mean_group_hw_nex)) \n",
    "        print('средняя оценка за экзамен для людей не имеющих опыт программирования', numpy.mean(mean_group_ex_nex)) \n",
    "   "
   ]
  },
  {
   "cell_type": "code",
   "execution_count": 118,
   "metadata": {},
   "outputs": [
    {
     "name": "stdout",
     "output_type": "stream",
     "text": [
      "средняя оценка за все ДЗ  8.433333333333334\n",
      "средняя оценка за экзамен  9.166666666666666\n",
      "средняя оценка за все ДЗ для мальчиков 8.8\n",
      "средняя оценка за экзамен для мальчиков 9.0\n",
      "\n",
      "средняя оценка за все ДЗ для девочек 8.36\n",
      "средняя оценка за экзамен для девочек 9.2\n",
      "средняя оценка за все ДЗ для людей имеющих опыт программирования 8.48\n",
      "средняя оценка за экзамен для людей имеющих опыт программирования 9.0\n",
      "\n",
      "средняя оценка за все ДЗ для людей не имеющих опыт программирования 8.2\n",
      "средняя оценка за экзамен для людей не имеющих опыт программирования 10.0\n"
     ]
    }
   ],
   "source": [
    "select_mean(1, students_list)\n",
    "select_mean(2, students_list)\n",
    "select_mean(3, students_list)"
   ]
  }
 ],
 "metadata": {
  "kernelspec": {
   "display_name": "Python 3",
   "language": "python",
   "name": "python3"
  },
  "language_info": {
   "codemirror_mode": {
    "name": "ipython",
    "version": 3
   },
   "file_extension": ".py",
   "mimetype": "text/x-python",
   "name": "python",
   "nbconvert_exporter": "python",
   "pygments_lexer": "ipython3",
   "version": "3.7.3"
  }
 },
 "nbformat": 4,
 "nbformat_minor": 2
}
