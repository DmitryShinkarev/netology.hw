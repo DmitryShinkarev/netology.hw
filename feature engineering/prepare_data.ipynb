{
 "cells": [
  {
   "cell_type": "code",
   "execution_count": 2,
   "metadata": {},
   "outputs": [],
   "source": [
    "import numpy as np\n",
    "import pandas as pd\n",
    "\n",
    "from sklearn.linear_model import LinearRegression"
   ]
  },
  {
   "cell_type": "code",
   "execution_count": 8,
   "metadata": {},
   "outputs": [
    {
     "data": {
      "text/html": [
       "<div>\n",
       "<style scoped>\n",
       "    .dataframe tbody tr th:only-of-type {\n",
       "        vertical-align: middle;\n",
       "    }\n",
       "\n",
       "    .dataframe tbody tr th {\n",
       "        vertical-align: top;\n",
       "    }\n",
       "\n",
       "    .dataframe thead th {\n",
       "        text-align: right;\n",
       "    }\n",
       "</style>\n",
       "<table border=\"1\" class=\"dataframe\">\n",
       "  <thead>\n",
       "    <tr style=\"text-align: right;\">\n",
       "      <th></th>\n",
       "      <th>distance</th>\n",
       "      <th>fuel</th>\n",
       "      <th>passengers</th>\n",
       "      <th>price_per_pas</th>\n",
       "    </tr>\n",
       "  </thead>\n",
       "  <tbody>\n",
       "    <tr>\n",
       "      <th>0</th>\n",
       "      <td>2405</td>\n",
       "      <td>3524</td>\n",
       "      <td>290</td>\n",
       "      <td>1036.637931</td>\n",
       "    </tr>\n",
       "    <tr>\n",
       "      <th>1</th>\n",
       "      <td>6155</td>\n",
       "      <td>3648</td>\n",
       "      <td>215</td>\n",
       "      <td>3578.488372</td>\n",
       "    </tr>\n",
       "    <tr>\n",
       "      <th>2</th>\n",
       "      <td>6965</td>\n",
       "      <td>3023</td>\n",
       "      <td>66</td>\n",
       "      <td>13191.287879</td>\n",
       "    </tr>\n",
       "    <tr>\n",
       "      <th>3</th>\n",
       "      <td>1027</td>\n",
       "      <td>2239</td>\n",
       "      <td>139</td>\n",
       "      <td>923.561151</td>\n",
       "    </tr>\n",
       "    <tr>\n",
       "      <th>4</th>\n",
       "      <td>1673</td>\n",
       "      <td>4285</td>\n",
       "      <td>128</td>\n",
       "      <td>1633.789062</td>\n",
       "    </tr>\n",
       "  </tbody>\n",
       "</table>\n",
       "</div>"
      ],
      "text/plain": [
       "   distance  fuel  passengers  price_per_pas\n",
       "0      2405  3524         290    1036.637931\n",
       "1      6155  3648         215    3578.488372\n",
       "2      6965  3023          66   13191.287879\n",
       "3      1027  2239         139     923.561151\n",
       "4      1673  4285         128    1633.789062"
      ]
     },
     "execution_count": 8,
     "metadata": {},
     "output_type": "execute_result"
    }
   ],
   "source": [
    "# Создаём сэмпл. Стоимости перелета на рейсе в зависимости от заполнености самолета и растояния.\n",
    "# Скажем так.. стоимость за перелет с них будут брать после перелета, чтобы эта модель хоть как то могла \n",
    "# напоминать настоящую ситуацию:))\n",
    "\n",
    "n_samples = 500\n",
    "\n",
    "distance = np.random.choice(7000, n_samples) + 1000 # Растояние в км. которое пролетает самолет за рейс\n",
    "fuel = np.random.choice(3000, n_samples) + 1500 # Количество топлива которое он сжигает за перелет в галлонах\n",
    "passengers = np.random.choice(250, n_samples) + 50 # Сколько людей летит на рейсе\n",
    "\n",
    "price_per_pas = (distance  * 125) / passengers\n",
    "\n",
    "# создаем табличку\n",
    "data = pd.DataFrame({'distance': distance, 'fuel': fuel, 'passengers': passengers, 'price_per_pas': price_per_pas})\n",
    "data.head(5)"
   ]
  },
  {
   "cell_type": "code",
   "execution_count": 9,
   "metadata": {},
   "outputs": [
    {
     "name": "stdout",
     "output_type": "stream",
     "text": [
      "Weights: [  0.93333516  -0.08322315 -29.21047689]\n",
      "Bias: 5197.306068447214\n",
      "Error: 1119.3678156751455\n"
     ]
    }
   ],
   "source": [
    "from sklearn.metrics import mean_absolute_error\n",
    "\n",
    "# Можно посмотреть будет ли зависимость от всех наших параметров и на сколько кореллируется с ценой билета)\n",
    "X = data[['distance', 'fuel', 'passengers']]\n",
    "y = data['price_per_pas']\n",
    "reg = LinearRegression().fit(X, y)\n",
    "print('Weights: {}'.format(reg.coef_))\n",
    "print('Bias: {}'.format(reg.intercept_))\n",
    "\n",
    "pred_values = reg.predict(data[['distance', 'fuel', 'passengers']])\n",
    "print('Error: {}'.format(mean_absolute_error(pred_values, y)))"
   ]
  },
  {
   "cell_type": "markdown",
   "metadata": {},
   "source": [
    "Ну должно быть, что цена не должна зависить от заполнености самолета."
   ]
  },
  {
   "cell_type": "code",
   "execution_count": 10,
   "metadata": {},
   "outputs": [
    {
     "name": "stdout",
     "output_type": "stream",
     "text": [
      "Weights: [ 0.94882676 -0.08234418]\n",
      "Bias: 98.33018197668571\n",
      "Error: 1793.3875035145934\n"
     ]
    }
   ],
   "source": [
    "X = data[['distance', 'fuel']]\n",
    "y = data['price_per_pas']\n",
    "reg = LinearRegression().fit(X, y)\n",
    "print('Weights: {}'.format(reg.coef_))\n",
    "print('Bias: {}'.format(reg.intercept_))\n",
    "\n",
    "pred_values = reg.predict(data[['distance', 'fuel']])\n",
    "print('Error: {}'.format(mean_absolute_error(pred_values, y)))"
   ]
  },
  {
   "cell_type": "markdown",
   "metadata": {},
   "source": [
    "Ну и вот мы получили то, что надо))). Иногда мне кажется так и формируется цена на билеты)\n",
    "Зависимость тут просматривается еще меньше, наверное потомучто теперь неизвесна одна переменная используемая в формуле по расчету одного билета."
   ]
  },
  {
   "cell_type": "code",
   "execution_count": 11,
   "metadata": {},
   "outputs": [
    {
     "data": {
      "text/html": [
       "<div>\n",
       "<style scoped>\n",
       "    .dataframe tbody tr th:only-of-type {\n",
       "        vertical-align: middle;\n",
       "    }\n",
       "\n",
       "    .dataframe tbody tr th {\n",
       "        vertical-align: top;\n",
       "    }\n",
       "\n",
       "    .dataframe thead th {\n",
       "        text-align: right;\n",
       "    }\n",
       "</style>\n",
       "<table border=\"1\" class=\"dataframe\">\n",
       "  <thead>\n",
       "    <tr style=\"text-align: right;\">\n",
       "      <th></th>\n",
       "      <th>distance</th>\n",
       "      <th>fuel</th>\n",
       "      <th>passengers</th>\n",
       "      <th>price_per_pas</th>\n",
       "      <th>cost_one_km</th>\n",
       "    </tr>\n",
       "  </thead>\n",
       "  <tbody>\n",
       "    <tr>\n",
       "      <th>0</th>\n",
       "      <td>2405</td>\n",
       "      <td>3524</td>\n",
       "      <td>290</td>\n",
       "      <td>1036.637931</td>\n",
       "      <td>2.493114e+06</td>\n",
       "    </tr>\n",
       "    <tr>\n",
       "      <th>1</th>\n",
       "      <td>6155</td>\n",
       "      <td>3648</td>\n",
       "      <td>215</td>\n",
       "      <td>3578.488372</td>\n",
       "      <td>2.202560e+07</td>\n",
       "    </tr>\n",
       "    <tr>\n",
       "      <th>2</th>\n",
       "      <td>6965</td>\n",
       "      <td>3023</td>\n",
       "      <td>66</td>\n",
       "      <td>13191.287879</td>\n",
       "      <td>9.187732e+07</td>\n",
       "    </tr>\n",
       "    <tr>\n",
       "      <th>3</th>\n",
       "      <td>1027</td>\n",
       "      <td>2239</td>\n",
       "      <td>139</td>\n",
       "      <td>923.561151</td>\n",
       "      <td>9.484973e+05</td>\n",
       "    </tr>\n",
       "    <tr>\n",
       "      <th>4</th>\n",
       "      <td>1673</td>\n",
       "      <td>4285</td>\n",
       "      <td>128</td>\n",
       "      <td>1633.789062</td>\n",
       "      <td>2.733329e+06</td>\n",
       "    </tr>\n",
       "  </tbody>\n",
       "</table>\n",
       "</div>"
      ],
      "text/plain": [
       "   distance  fuel  passengers  price_per_pas   cost_one_km\n",
       "0      2405  3524         290    1036.637931  2.493114e+06\n",
       "1      6155  3648         215    3578.488372  2.202560e+07\n",
       "2      6965  3023          66   13191.287879  9.187732e+07\n",
       "3      1027  2239         139     923.561151  9.484973e+05\n",
       "4      1673  4285         128    1633.789062  2.733329e+06"
      ]
     },
     "execution_count": 11,
     "metadata": {},
     "output_type": "execute_result"
    }
   ],
   "source": [
    "# Создаем новый признак\n",
    "data['cost_one_km'] = data['distance'] * data['price_per_pas']\n",
    "data.head(5)"
   ]
  },
  {
   "cell_type": "code",
   "execution_count": 12,
   "metadata": {},
   "outputs": [
    {
     "name": "stdout",
     "output_type": "stream",
     "text": [
      "Weights: [0.00012773]\n",
      "Bias: 1231.1012682197306\n",
      "Error: 658.1905701929501\n"
     ]
    }
   ],
   "source": [
    "X = data[['cost_one_km']]\n",
    "y = data['price_per_pas']\n",
    "reg = LinearRegression().fit(X, y)\n",
    "print('Weights: {}'.format(reg.coef_))\n",
    "print('Bias: {}'.format(reg.intercept_))\n",
    "\n",
    "pred_values = reg.predict(data[['cost_one_km']])\n",
    "print('Error: {}'.format(mean_absolute_error(pred_values, y)))"
   ]
  },
  {
   "cell_type": "markdown",
   "metadata": {},
   "source": [
    "и вот когда мы уменьшили пространство и задали более менее понятный фактор. то ошибка стала в разы меньше."
   ]
  }
 ],
 "metadata": {
  "kernelspec": {
   "display_name": "Python 3",
   "language": "python",
   "name": "python3"
  },
  "language_info": {
   "codemirror_mode": {
    "name": "ipython",
    "version": 3
   },
   "file_extension": ".py",
   "mimetype": "text/x-python",
   "name": "python",
   "nbconvert_exporter": "python",
   "pygments_lexer": "ipython3",
   "version": "3.7.3"
  }
 },
 "nbformat": 4,
 "nbformat_minor": 2
}
